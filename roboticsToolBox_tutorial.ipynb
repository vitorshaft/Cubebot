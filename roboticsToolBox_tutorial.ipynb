{
 "cells": [
  {
   "cell_type": "code",
   "execution_count": 1,
   "metadata": {},
   "outputs": [],
   "source": [
    "import numpy as np\n",
    "import math\n",
    "import roboticstoolbox as rtb\n",
    "from spatialmath.base import *\n",
    "from spatialmath import SE3\n",
    "import spatialmath.base.symbolic as sym\n",
    "\n"
   ]
  },
  {
   "cell_type": "code",
   "execution_count": 2,
   "metadata": {},
   "outputs": [
    {
     "data": {
      "text/latex": [
       "$\\displaystyle \\theta$"
      ],
      "text/plain": [
       "theta"
      ]
     },
     "execution_count": 2,
     "metadata": {},
     "output_type": "execute_result"
    }
   ],
   "source": [
    "theta = sym.symbol('theta')\n",
    "theta"
   ]
  },
  {
   "cell_type": "code",
   "execution_count": 3,
   "metadata": {},
   "outputs": [
    {
     "data": {
      "text/plain": [
       "sympy.core.symbol.Symbol"
      ]
     },
     "execution_count": 3,
     "metadata": {},
     "output_type": "execute_result"
    }
   ],
   "source": [
    "type(theta)"
   ]
  },
  {
   "cell_type": "code",
   "execution_count": 4,
   "metadata": {},
   "outputs": [
    {
     "data": {
      "text/plain": [
       "True"
      ]
     },
     "execution_count": 4,
     "metadata": {},
     "output_type": "execute_result"
    }
   ],
   "source": [
    "theta.is_real"
   ]
  },
  {
   "cell_type": "code",
   "execution_count": 6,
   "metadata": {},
   "outputs": [],
   "source": [
    "R = rotx(theta)"
   ]
  },
  {
   "cell_type": "code",
   "execution_count": 7,
   "metadata": {},
   "outputs": [
    {
     "data": {
      "text/plain": [
       "array([[1, 0, 0],\n",
       "       [0, cos(theta), -sin(theta)],\n",
       "       [0, sin(theta), cos(theta)]], dtype=object)"
      ]
     },
     "execution_count": 7,
     "metadata": {},
     "output_type": "execute_result"
    }
   ],
   "source": [
    "R"
   ]
  },
  {
   "cell_type": "code",
   "execution_count": 8,
   "metadata": {},
   "outputs": [],
   "source": [
    "T = trotx(theta)"
   ]
  },
  {
   "cell_type": "code",
   "execution_count": 9,
   "metadata": {},
   "outputs": [
    {
     "data": {
      "text/plain": [
       "array([[1, 0, 0, 0],\n",
       "       [0, cos(theta), -sin(theta), 0],\n",
       "       [0, sin(theta), cos(theta), 0],\n",
       "       [0, 0, 0, 1]], dtype=object)"
      ]
     },
     "execution_count": 9,
     "metadata": {},
     "output_type": "execute_result"
    }
   ],
   "source": [
    "T"
   ]
  },
  {
   "cell_type": "code",
   "execution_count": 11,
   "metadata": {},
   "outputs": [
    {
     "data": {
      "text/plain": [
       "cos"
      ]
     },
     "execution_count": 11,
     "metadata": {},
     "output_type": "execute_result"
    }
   ],
   "source": [
    "type(T[1,1])"
   ]
  },
  {
   "cell_type": "code",
   "execution_count": 12,
   "metadata": {},
   "outputs": [
    {
     "data": {
      "text/plain": [
       "array([[1, 0, 0, 0],\n",
       "       [0, -sin(theta)**2 + cos(theta)**2, -2*sin(theta)*cos(theta), 0],\n",
       "       [0, 2*sin(theta)*cos(theta), -sin(theta)**2 + cos(theta)**2, 0],\n",
       "       [0, 0, 0, 1]], dtype=object)"
      ]
     },
     "execution_count": 12,
     "metadata": {},
     "output_type": "execute_result"
    }
   ],
   "source": [
    "T@T"
   ]
  },
  {
   "cell_type": "code",
   "execution_count": 13,
   "metadata": {},
   "outputs": [],
   "source": [
    "T = SE3.Rx(theta)"
   ]
  },
  {
   "cell_type": "code",
   "execution_count": 14,
   "metadata": {},
   "outputs": [
    {
     "data": {
      "text/plain": [
       "   1         0         0         0         \n",
       "   0        cos(theta)   -sin(theta)   0         \n",
       "   0        sin(theta)   cos(theta)    0         \n",
       "   0         0         0         1         \n"
      ]
     },
     "execution_count": 14,
     "metadata": {},
     "output_type": "execute_result"
    }
   ],
   "source": [
    "T"
   ]
  },
  {
   "cell_type": "code",
   "execution_count": 16,
   "metadata": {},
   "outputs": [],
   "source": [
    "T2 = T*T"
   ]
  },
  {
   "cell_type": "code",
   "execution_count": 17,
   "metadata": {},
   "outputs": [
    {
     "data": {
      "text/plain": [
       "   1        0            0             0         \n",
       "  0            -sin(theta)**2 + cos(theta)**2 -2*sin(theta)*cos(theta) 0             \n",
       "  0            2*sin(theta)*cos(theta) -sin(theta)**2 + cos(theta)**2 0             \n",
       "   0        0            0             1         \n"
      ]
     },
     "execution_count": 17,
     "metadata": {},
     "output_type": "execute_result"
    }
   ],
   "source": [
    "T2"
   ]
  },
  {
   "cell_type": "code",
   "execution_count": 2,
   "metadata": {},
   "outputs": [],
   "source": [
    "puma = rtb.models.DH.Puma560(symbolic=True)"
   ]
  },
  {
   "cell_type": "code",
   "execution_count": 19,
   "metadata": {},
   "outputs": [
    {
     "name": "stdout",
     "output_type": "stream",
     "text": [
      "DHRobot: Puma 560 (by Unimation), 6 joints (RRRRRR), dynamics, geometry, standard DH parameters\n",
      "┌────┬────────┬────────┬───────┬─────────┬────────┐\n",
      "│θⱼ  │   dⱼ   │   aⱼ   │  ⍺ⱼ   │   q⁻    │   q⁺   │\n",
      "├────┼────────┼────────┼───────┼─────────┼────────┤\n",
      "│ q1 │ 0.6718 │      0 │  pi/2 │ -160.0° │ 160.0° │\n",
      "│ q2 │      0 │ 0.4318 │     0 │ -110.0° │ 110.0° │\n",
      "│ q3 │   0.15 │ 0.0203 │ -pi/2 │ -135.0° │ 135.0° │\n",
      "│ q4 │ 0.4318 │      0 │  pi/2 │ -266.0° │ 266.0° │\n",
      "│ q5 │      0 │      0 │ -pi/2 │ -100.0° │ 100.0° │\n",
      "│ q6 │      0 │      0 │     0 │ -266.0° │ 266.0° │\n",
      "└────┴────────┴────────┴───────┴─────────┴────────┘\n",
      "\n",
      "┌─┬──┐\n",
      "└─┴──┘\n",
      "\n",
      "┌─────┬─────┬──────────────────────┬───────────────────────┬─────┬──────────────────────┬─────┐\n",
      "│name │ q0  │ q1                   │ q2                    │ q3  │ q4                   │ q5  │\n",
      "├─────┼─────┼──────────────────────┼───────────────────────┼─────┼──────────────────────┼─────┤\n",
      "│  qr │  0° │ 28.6478897565412*pi° │ -28.6478897565412*pi° │  0° │  0°                  │  0° │\n",
      "│  qz │  0° │  0°                  │  0°                   │  0° │  0°                  │  0° │\n",
      "│  qn │  0° │ 14.3239448782706*pi° │ 57.2957795130823*pi°  │  0° │ 14.3239448782706*pi° │  0° │\n",
      "│  qs │  0° │  0°                  │ -28.6478897565412*pi° │  0° │  0°                  │  0° │\n",
      "└─────┴─────┴──────────────────────┴───────────────────────┴─────┴──────────────────────┴─────┘\n",
      "\n"
     ]
    }
   ],
   "source": [
    "print(puma)"
   ]
  },
  {
   "cell_type": "code",
   "execution_count": 3,
   "metadata": {},
   "outputs": [],
   "source": [
    "q = sym.symbol('q_:6')"
   ]
  },
  {
   "cell_type": "code",
   "execution_count": 6,
   "metadata": {},
   "outputs": [],
   "source": [
    "T = puma.fkine(q)"
   ]
  },
  {
   "cell_type": "code",
   "execution_count": null,
   "metadata": {},
   "outputs": [],
   "source": [
    "T"
   ]
  },
  {
   "cell_type": "code",
   "execution_count": 4,
   "metadata": {},
   "outputs": [],
   "source": [
    "from sympy import Matrix\n",
    "#Matrix(T.A)"
   ]
  },
  {
   "cell_type": "code",
   "execution_count": 7,
   "metadata": {},
   "outputs": [],
   "source": [
    "Ts = T.simplify()"
   ]
  },
  {
   "cell_type": "code",
   "execution_count": 8,
   "metadata": {},
   "outputs": [],
   "source": [
    "M = Matrix(Ts.A)\n",
    "#M"
   ]
  },
  {
   "cell_type": "code",
   "execution_count": null,
   "metadata": {},
   "outputs": [],
   "source": [
    "from sympy import ccode, pycode, octave_code\n",
    "print(ccode(M, assign_to=\"T\"))"
   ]
  },
  {
   "cell_type": "code",
   "execution_count": null,
   "metadata": {},
   "outputs": [],
   "source": [
    "print(pycode(M))"
   ]
  },
  {
   "cell_type": "code",
   "execution_count": 8,
   "metadata": {},
   "outputs": [],
   "source": [
    "from sympy import lambdify\n",
    "T_func = lambdify(q, M, modules='numpy')"
   ]
  },
  {
   "cell_type": "code",
   "execution_count": 33,
   "metadata": {},
   "outputs": [
    {
     "data": {
      "text/plain": [
       "array([[ 1.     , -0.     , -0.     ,  0.4521 ],\n",
       "       [ 0.     ,  1.     , -0.     , -0.15005],\n",
       "       [ 0.     , -0.     ,  1.     ,  1.10363],\n",
       "       [ 0.     ,  0.     ,  0.     ,  1.     ]])"
      ]
     },
     "execution_count": 33,
     "metadata": {},
     "output_type": "execute_result"
    }
   ],
   "source": [
    "T_func(0, 0, 0, 0, 0, 0)"
   ]
  },
  {
   "cell_type": "code",
   "execution_count": 10,
   "metadata": {},
   "outputs": [
    {
     "data": {
      "text/plain": [
       "   1         0         0        x             \n",
       "   0         1         0        y             \n",
       "   0         0         1        z             \n",
       "   0         0         0         1         \n"
      ]
     },
     "execution_count": 10,
     "metadata": {},
     "output_type": "execute_result"
    }
   ],
   "source": [
    "from spatialmath.base import *\n",
    "from spatialmath import SE3\n",
    "import numpy as np\n",
    "Pa = np.array([[2],[2],[2],[10]])\n",
    "Pa = Pa/10\n",
    "I = np.eye(4)\n",
    "I = np.insert(I,3,[0.2,0.2,0.2,1],axis=1)\n",
    "Pa = np.delete(I,4,1)\n",
    "Pa = SE3(0.2,0.2,0.2)\n",
    "Pp = SE3(0,0,0.19)\n",
    "xis,ips,zed = sym.symbol('x,y,z')\n",
    "Pq = SE3(xis,ips,zed)\n",
    "#Ms*Pa\n",
    "#print(Pa)\n",
    "Pq"
   ]
  },
  {
   "cell_type": "code",
   "execution_count": 11,
   "metadata": {},
   "outputs": [
    {
     "data": {
      "text/plain": [
       "IKsolution(q=array([-2.91539288, -2.95322351,  0.29931911,  3.14159265, -2.6539044 ,\n",
       "       -0.22619977]), success=True, reason='')"
      ]
     },
     "execution_count": 11,
     "metadata": {},
     "output_type": "execute_result"
    }
   ],
   "source": [
    "sol = puma.ikine_a(Pa)\n",
    "sol"
   ]
  },
  {
   "cell_type": "code",
   "execution_count": 12,
   "metadata": {},
   "outputs": [
    {
     "data": {
      "image/png": "[encoded data removed]",
      "text/plain": [
       "<Figure size 432x288 with 1 Axes>"
      ]
     },
     "metadata": {},
     "output_type": "display_data"
    },
    {
     "data": {
      "text/plain": [
       "PyPlot3D backend, t = 0.05, scene:\n",
       "  Puma 560"
      ]
     },
     "execution_count": 12,
     "metadata": {},
     "output_type": "execute_result"
    },
    {
     "data": {
      "text/plain": [
       "<Figure size 432x288 with 0 Axes>"
      ]
     },
     "metadata": {},
     "output_type": "display_data"
    }
   ],
   "source": [
    "puma.plot(sol[0])"
   ]
  },
  {
   "cell_type": "code",
   "execution_count": 9,
   "metadata": {},
   "outputs": [],
   "source": [
    "g = sym.symbol('g')\n",
    "puma.gravity = [0, 0, g]"
   ]
  },
  {
   "cell_type": "code",
   "execution_count": 10,
   "metadata": {},
   "outputs": [
    {
     "data": {
      "text/plain": [
       "(qd_0, qd_1, qd_2, qd_3, qd_4, qd_5)"
      ]
     },
     "execution_count": 10,
     "metadata": {},
     "output_type": "execute_result"
    }
   ],
   "source": [
    "qd = sym.symbol('qd_:6')\n",
    "qd"
   ]
  },
  {
   "cell_type": "code",
   "execution_count": 11,
   "metadata": {},
   "outputs": [
    {
     "data": {
      "text/plain": [
       "(qdd_0, qdd_1, qdd_2, qdd_3, qdd_4, qdd_5)"
      ]
     },
     "execution_count": 11,
     "metadata": {},
     "output_type": "execute_result"
    }
   ],
   "source": [
    "qdd = sym.symbol('qdd_:6')\n",
    "qdd"
   ]
  },
  {
   "cell_type": "code",
   "execution_count": 12,
   "metadata": {},
   "outputs": [
    {
     "name": "stdout",
     "output_type": "stream",
     "text": [
      "Wall time: 342 ms\n"
     ]
    }
   ],
   "source": [
    "%time tau = puma.rne_python(q, qd, qdd)"
   ]
  },
  {
   "cell_type": "code",
   "execution_count": 14,
   "metadata": {},
   "outputs": [],
   "source": [
    "from sympy import trigsimp, simplify"
   ]
  },
  {
   "cell_type": "code",
   "execution_count": 15,
   "metadata": {},
   "outputs": [
    {
     "name": "stdout",
     "output_type": "stream",
     "text": [
      "Wall time: 13.1 s\n"
     ]
    }
   ],
   "source": [
    "%time z = simplify(tau[5])"
   ]
  },
  {
   "cell_type": "code",
   "execution_count": null,
   "metadata": {},
   "outputs": [],
   "source": [
    "z"
   ]
  },
  {
   "cell_type": "code",
   "execution_count": 14,
   "metadata": {},
   "outputs": [
    {
     "name": "stdout",
     "output_type": "stream",
     "text": [
      "Wall time: 9min 17s\n"
     ]
    }
   ],
   "source": [
    "%time y = simplify(tau[4])"
   ]
  },
  {
   "cell_type": "code",
   "execution_count": null,
   "metadata": {},
   "outputs": [
    {
     "ename": "",
     "evalue": "",
     "output_type": "error",
     "traceback": [
      "\u001b[1;31mFailed to start the Kernel. \n",
      "\u001b[1;31mUnable to start Kernel 'Python 3.7.5' due to connection timeout. \n",
      "\u001b[1;31mView Jupyter <a href='command:jupyter.viewOutput'>log</a> for further details."
     ]
    }
   ],
   "source": [
    "%time x = simplify(tau[3])"
   ]
  },
  {
   "cell_type": "code",
   "execution_count": 16,
   "metadata": {},
   "outputs": [
    {
     "name": "stderr",
     "output_type": "stream",
     "text": [
      "ERROR:root:Internal Python error in the inspect module.\n",
      "Below is the traceback from this internal error.\n",
      "\n"
     ]
    },
    {
     "ename": "",
     "evalue": "",
     "output_type": "error",
     "traceback": [
      "\u001b[1;31mFailed to interrupt the Kernel. \n",
      "\u001b[1;31mUnable to start Kernel 'Python 3.7.5' due to connection timeout. \n",
      "\u001b[1;31mView Jupyter <a href='command:jupyter.viewOutput'>log</a> for further details."
     ]
    }
   ],
   "source": [
    "%time w = simplify(tau[2])"
   ]
  },
  {
   "cell_type": "code",
   "execution_count": null,
   "metadata": {},
   "outputs": [],
   "source": [
    "%time v = simplify(tau[1])"
   ]
  },
  {
   "cell_type": "code",
   "execution_count": null,
   "metadata": {},
   "outputs": [],
   "source": [
    "%time u = simplify(tau[0])"
   ]
  },
  {
   "cell_type": "code",
   "execution_count": 22,
   "metadata": {},
   "outputs": [
    {
     "data": {
      "text/plain": [
       "numpy.ndarray"
      ]
     },
     "execution_count": 22,
     "metadata": {},
     "output_type": "execute_result"
    }
   ],
   "source": [
    "type(tau)"
   ]
  },
  {
   "cell_type": "code",
   "execution_count": 23,
   "metadata": {},
   "outputs": [
    {
     "data": {
      "text/plain": [
       "(6,)"
      ]
     },
     "execution_count": 23,
     "metadata": {},
     "output_type": "execute_result"
    }
   ],
   "source": [
    "tau.shape"
   ]
  },
  {
   "cell_type": "code",
   "execution_count": 33,
   "metadata": {},
   "outputs": [
    {
     "data": {
      "text/latex": [
       "$\\displaystyle 4.0 \\cdot 10^{-5} qd_{0} qd_{1} \\sin{\\left(q_{1} \\right)} \\sin{\\left(q_{2} \\right)} \\sin{\\left(q_{4} \\right)} \\cos{\\left(q_{3} \\right)} - 4.0 \\cdot 10^{-5} qd_{0} qd_{1} \\sin{\\left(q_{1} \\right)} \\cos{\\left(q_{2} \\right)} \\cos{\\left(q_{4} \\right)} - 4.0 \\cdot 10^{-5} qd_{0} qd_{1} \\sin{\\left(q_{2} \\right)} \\cos{\\left(q_{1} \\right)} \\cos{\\left(q_{4} \\right)} - 4.0 \\cdot 10^{-5} qd_{0} qd_{1} \\sin{\\left(q_{4} \\right)} \\cos{\\left(q_{1} \\right)} \\cos{\\left(q_{2} \\right)} \\cos{\\left(q_{3} \\right)} + 4.0 \\cdot 10^{-5} qd_{0} qd_{2} \\sin{\\left(q_{1} \\right)} \\sin{\\left(q_{2} \\right)} \\sin{\\left(q_{4} \\right)} \\cos{\\left(q_{3} \\right)} - 4.0 \\cdot 10^{-5} qd_{0} qd_{2} \\sin{\\left(q_{1} \\right)} \\cos{\\left(q_{2} \\right)} \\cos{\\left(q_{4} \\right)} - 4.0 \\cdot 10^{-5} qd_{0} qd_{2} \\sin{\\left(q_{2} \\right)} \\cos{\\left(q_{1} \\right)} \\cos{\\left(q_{4} \\right)} - 4.0 \\cdot 10^{-5} qd_{0} qd_{2} \\sin{\\left(q_{4} \\right)} \\cos{\\left(q_{1} \\right)} \\cos{\\left(q_{2} \\right)} \\cos{\\left(q_{3} \\right)} + 4.0 \\cdot 10^{-5} qd_{0} qd_{3} \\sin{\\left(q_{1} \\right)} \\sin{\\left(q_{3} \\right)} \\sin{\\left(q_{4} \\right)} \\cos{\\left(q_{2} \\right)} + 4.0 \\cdot 10^{-5} qd_{0} qd_{3} \\sin{\\left(q_{2} \\right)} \\sin{\\left(q_{3} \\right)} \\sin{\\left(q_{4} \\right)} \\cos{\\left(q_{1} \\right)} + 4.0 \\cdot 10^{-5} qd_{0} qd_{4} \\sin{\\left(q_{1} \\right)} \\sin{\\left(q_{2} \\right)} \\sin{\\left(q_{4} \\right)} - 4.0 \\cdot 10^{-5} qd_{0} qd_{4} \\sin{\\left(q_{1} \\right)} \\cos{\\left(q_{2} \\right)} \\cos{\\left(q_{3} \\right)} \\cos{\\left(q_{4} \\right)} - 4.0 \\cdot 10^{-5} qd_{0} qd_{4} \\sin{\\left(q_{2} \\right)} \\cos{\\left(q_{1} \\right)} \\cos{\\left(q_{3} \\right)} \\cos{\\left(q_{4} \\right)} - 4.0 \\cdot 10^{-5} qd_{0} qd_{4} \\sin{\\left(q_{4} \\right)} \\cos{\\left(q_{1} \\right)} \\cos{\\left(q_{2} \\right)} + 4.0 \\cdot 10^{-5} qd_{1} qd_{3} \\sin{\\left(q_{4} \\right)} \\cos{\\left(q_{3} \\right)} + 4.0 \\cdot 10^{-5} qd_{1} qd_{4} \\sin{\\left(q_{3} \\right)} \\cos{\\left(q_{4} \\right)} + 4.0 \\cdot 10^{-5} qd_{2} qd_{3} \\sin{\\left(q_{4} \\right)} \\cos{\\left(q_{3} \\right)} + 4.0 \\cdot 10^{-5} qd_{2} qd_{4} \\sin{\\left(q_{3} \\right)} \\cos{\\left(q_{4} \\right)} - 4.0 \\cdot 10^{-5} qd_{3} qd_{4} \\sin{\\left(q_{4} \\right)} + 0.2158232532732 qd_{5} - 4.0 \\cdot 10^{-5} qdd_{0} \\sin{\\left(q_{1} \\right)} \\sin{\\left(q_{2} \\right)} \\cos{\\left(q_{4} \\right)} - 4.0 \\cdot 10^{-5} qdd_{0} \\sin{\\left(q_{1} \\right)} \\sin{\\left(q_{4} \\right)} \\cos{\\left(q_{2} \\right)} \\cos{\\left(q_{3} \\right)} - 4.0 \\cdot 10^{-5} qdd_{0} \\sin{\\left(q_{2} \\right)} \\sin{\\left(q_{4} \\right)} \\cos{\\left(q_{1} \\right)} \\cos{\\left(q_{3} \\right)} + 4.0 \\cdot 10^{-5} qdd_{0} \\cos{\\left(q_{1} \\right)} \\cos{\\left(q_{2} \\right)} \\cos{\\left(q_{4} \\right)} + 4.0 \\cdot 10^{-5} qdd_{1} \\sin{\\left(q_{3} \\right)} \\sin{\\left(q_{4} \\right)} + 4.0 \\cdot 10^{-5} qdd_{2} \\sin{\\left(q_{3} \\right)} \\sin{\\left(q_{4} \\right)} + 4.0 \\cdot 10^{-5} qdd_{3} \\cos{\\left(q_{4} \\right)} + 0.194104505668 qdd_{5}$"
      ],
      "text/plain": [
       "4.0e-5*qd_0*qd_1*sin(q_1)*sin(q_2)*sin(q_4)*cos(q_3) - 4.0e-5*qd_0*qd_1*sin(q_1)*cos(q_2)*cos(q_4) - 4.0e-5*qd_0*qd_1*sin(q_2)*cos(q_1)*cos(q_4) - 4.0e-5*qd_0*qd_1*sin(q_4)*cos(q_1)*cos(q_2)*cos(q_3) + 4.0e-5*qd_0*qd_2*sin(q_1)*sin(q_2)*sin(q_4)*cos(q_3) - 4.0e-5*qd_0*qd_2*sin(q_1)*cos(q_2)*cos(q_4) - 4.0e-5*qd_0*qd_2*sin(q_2)*cos(q_1)*cos(q_4) - 4.0e-5*qd_0*qd_2*sin(q_4)*cos(q_1)*cos(q_2)*cos(q_3) + 4.0e-5*qd_0*qd_3*sin(q_1)*sin(q_3)*sin(q_4)*cos(q_2) + 4.0e-5*qd_0*qd_3*sin(q_2)*sin(q_3)*sin(q_4)*cos(q_1) + 4.0e-5*qd_0*qd_4*sin(q_1)*sin(q_2)*sin(q_4) - 4.0e-5*qd_0*qd_4*sin(q_1)*cos(q_2)*cos(q_3)*cos(q_4) - 4.0e-5*qd_0*qd_4*sin(q_2)*cos(q_1)*cos(q_3)*cos(q_4) - 4.0e-5*qd_0*qd_4*sin(q_4)*cos(q_1)*cos(q_2) + 4.0e-5*qd_1*qd_3*sin(q_4)*cos(q_3) + 4.0e-5*qd_1*qd_4*sin(q_3)*cos(q_4) + 4.0e-5*qd_2*qd_3*sin(q_4)*cos(q_3) + 4.0e-5*qd_2*qd_4*sin(q_3)*cos(q_4) - 4.0e-5*qd_3*qd_4*sin(q_4) + 0.2158232532732*qd_5 - 4.0e-5*qdd_0*sin(q_1)*sin(q_2)*cos(q_4) - 4.0e-5*qdd_0*sin(q_1)*sin(q_4)*cos(q_2)*cos(q_3) - 4.0e-5*qdd_0*sin(q_2)*sin(q_4)*cos(q_1)*cos(q_3) + 4.0e-5*qdd_0*cos(q_1)*cos(q_2)*cos(q_4) + 4.0e-5*qdd_1*sin(q_3)*sin(q_4) + 4.0e-5*qdd_2*sin(q_3)*sin(q_4) + 4.0e-5*qdd_3*cos(q_4) + 0.194104505668*qdd_5"
      ]
     },
     "execution_count": 33,
     "metadata": {},
     "output_type": "execute_result"
    }
   ],
   "source": [
    "#tau_0 = tau[0].expand()\n",
    "tau_5 = tau[5].expand()\n",
    "tau_5"
   ]
  },
  {
   "cell_type": "code",
   "execution_count": 34,
   "metadata": {},
   "outputs": [
    {
     "data": {
      "text/plain": [
       "28"
      ]
     },
     "execution_count": 34,
     "metadata": {},
     "output_type": "execute_result"
    }
   ],
   "source": [
    "len(tau_5.args)"
   ]
  },
  {
   "cell_type": "code",
   "execution_count": 40,
   "metadata": {},
   "outputs": [
    {
     "data": {
      "text/plain": [
       "()"
      ]
     },
     "execution_count": 40,
     "metadata": {},
     "output_type": "execute_result"
    }
   ],
   "source": [
    "m = tau[5].coeff(qdd[0]).args\n",
    "m"
   ]
  },
  {
   "cell_type": "code",
   "execution_count": 42,
   "metadata": {},
   "outputs": [
    {
     "data": {
      "text/plain": [
       "()"
      ]
     },
     "execution_count": 42,
     "metadata": {},
     "output_type": "execute_result"
    }
   ],
   "source": [
    "c = tau[5].coeff(qd[5]).args\n",
    "c"
   ]
  },
  {
   "cell_type": "code",
   "execution_count": null,
   "metadata": {},
   "outputs": [],
   "source": [
    "C = tau[0].coeff(qd[0]).coeff(qd[0]).args"
   ]
  },
  {
   "cell_type": "code",
   "execution_count": 18,
   "metadata": {},
   "outputs": [],
   "source": [
    "import numpy as np\n",
    "import math\n",
    "import roboticstoolbox as rtb\n",
    "from spatialmath.base import *\n",
    "from spatialmath import SE3\n",
    "import spatialmath.base.symbolic as sym\n"
   ]
  },
  {
   "cell_type": "code",
   "execution_count": 7,
   "metadata": {},
   "outputs": [
    {
     "name": "stdout",
     "output_type": "stream",
     "text": [
      "Rz(q0) ⊕ tx(1) ⊕ Rz(q1) ⊕ tx(1)\n"
     ]
    },
    {
     "data": {
      "text/plain": [
       "   0.5403   -0.8415    0         1.418     \n",
       "   0.8415    0.5403    0         1.321     \n",
       "   0         0         1         0         \n",
       "   0         0         0         1         \n"
      ]
     },
     "execution_count": 7,
     "metadata": {},
     "output_type": "execute_result"
    }
   ],
   "source": [
    "from roboticstoolbox import ET\n",
    "e = ET.Rz() * ET.tx(1) * ET.Rz() * ET.tx(1)\n",
    "print(e)\n",
    "e.fkine([0.5,0.5])"
   ]
  },
  {
   "cell_type": "code",
   "execution_count": 9,
   "metadata": {},
   "outputs": [
    {
     "data": {
      "text/plain": [
       "tx(2)"
      ]
     },
     "execution_count": 9,
     "metadata": {},
     "output_type": "execute_result"
    }
   ],
   "source": [
    "from roboticstoolbox import ETS, ET\n",
    "e = ET.Rz(0.3) # a single ET, rotation about z\n",
    "ets1 = ETS(e)\n",
    "\n",
    "ets2 = ET.Rz(0.3) * ET.tx(2) # an ETS\n",
    "\n",
    "ets2[1]                      # an ET sliced from the ETS\n"
   ]
  },
  {
   "cell_type": "code",
   "execution_count": 24,
   "metadata": {},
   "outputs": [
    {
     "name": "stdout",
     "output_type": "stream",
     "text": [
      "SE3(-0.116, 0, 0) ⊕ Rz(q0) ⊕ SE3(0, -0.0294, 1.8e-18; 90°, -0°, 0°) ⊕ Rz(q0) ⊕ SE3(0.23, 0, 0; 180°, -0°, 0°) ⊕ Rz(q0) ⊕ SE3(0.08459, 0, -1.751e-19; 0°, -90°, -0°) ⊕ Rz(q0) ⊕ SE3(0.0019, 0.0904, -5.535e-18; 90°, -0°, 0°) ⊕ Rz(q0) ⊕ SE3(0.0438, 0, 0; 0°, 90°, -0°) ⊕ Rz(q0)\n"
     ]
    },
    {
     "data": {
      "text/plain": []
     },
     "execution_count": 24,
     "metadata": {},
     "output_type": "execute_result"
    }
   ],
   "source": [
    "from roboticstoolbox import ETS, ET\n",
    "import math\n",
    "pi = math.pi\n",
    "l0 = ET.tx(-0.116)*ET.Rz()\n",
    "l1 = ET.Rx(pi/2)*ET.tz(0.0294)*ET.Rz()\n",
    "l2 = ET.tx(0.23)*ET.Rx(pi)*ET.Rz()\n",
    "#l3 = ET.tx(0.08173)*ET.Ry(-pi/2)*ET.tz(-0.00286)*ET.Rz()\n",
    "l4 = ET.tx(0.0019)*ET.Rx(pi/2)*ET.tz(-0.0904)*ET.Rz()\n",
    "l3 = ET.tx(0.08173)*ET.Ry(-pi/2)*ET.tz(-0.00286)*ET.Rz()\n",
    "#l4 = ET.tx(0.0019)*ET.tz(-0.0904)*ET.Rz()\n",
    "l5 = ET.tx(0.0438)*ET.Ry(pi/2)*ET.Rz()\n",
    "\n",
    "ets0,ets1,ets2,ets3,ets4,ets5 = ETS(l0),ETS(l1),ETS(l2),ETS(l3),ETS(l4),ETS(l5)\n",
    "ets6 = l0*l1*l2*l3*l4*l5\n",
    "T06 = ETS(ets0*ets1*ets2*ets3*ets4*ets5)\n",
    "T06.compile()"
   ]
  },
  {
   "cell_type": "code",
   "execution_count": 25,
   "metadata": {},
   "outputs": [
    {
     "name": "stdout",
     "output_type": "stream",
     "text": [
      "ERobot: noname, 3 joints (RRR)\n",
      "┌─────┬────────┬───────┬────────┬─────────────────────┐\n",
      "│link │  link  │ joint │ parent │ ETS: parent to link │\n",
      "├─────┼────────┼───────┼────────┼─────────────────────┤\n",
      "│   0 │ link0  │     0 │ BASE   │ Rz(q0)              │\n",
      "│   1 │ link1  │     1 │ link0  │ Ry(q1)              │\n",
      "│   2 │ link2  │     2 │ link1  │ tz(1) ⊕ Ry(q2)      │\n",
      "│   3 │ @link3 │       │ link2  │ tz(1)               │\n",
      "└─────┴────────┴───────┴────────┴─────────────────────┘\n",
      "\n"
     ]
    }
   ],
   "source": [
    "from roboticstoolbox import ETS, ERobot\n",
    "ets = ET.Rz() * ET.Ry() * ET.tz(1) * ET.Ry() * ET.tz(1)\n",
    "robot = ERobot(ets)\n",
    "print(robot)"
   ]
  },
  {
   "cell_type": "code",
   "execution_count": 31,
   "metadata": {},
   "outputs": [
    {
     "name": "stdout",
     "output_type": "stream",
     "text": [
      "ERobot: PROCaN, 6 joints (RRRRRR), 2 branches\n",
      "┌─────┬────────┬───────┬────────┬────────────────────────────────────────────────┐\n",
      "│link │  link  │ joint │ parent │              ETS: parent to link               │\n",
      "├─────┼────────┼───────┼────────┼────────────────────────────────────────────────┤\n",
      "│   0 │ link1  │     0 │ BASE   │ tx(-0.116) ⊕ Rz(q0)                            │\n",
      "│   1 │ link2  │     1 │ link1  │ Rx(90°) ⊕ tz(0.0294) ⊕ Rz(q1)                  │\n",
      "│   2 │ link3  │     2 │ link2  │ tx(0.23) ⊕ Rx(180°) ⊕ Rz(q2)                   │\n",
      "│   3 │ link4  │     3 │ link3  │ tx(0.08173) ⊕ Ry(-90°) ⊕ tz(-0.00286) ⊕ Rz(q3) │\n",
      "│   4 │ link5  │     4 │ link4  │ tx(0.0019) ⊕ Rx(90°) ⊕ tz(-0.0904) ⊕ Rz(q4)    │\n",
      "│   5 │ @link6 │     5 │ link5  │ tx(0.0438) ⊕ Ry(90°) ⊕ Rz(q5)                  │\n",
      "│   6 │ @ee    │       │ link5  │ tx(0.1)                                        │\n",
      "└─────┴────────┴───────┴────────┴────────────────────────────────────────────────┘\n",
      "\n"
     ]
    },
    {
     "data": {
      "image/png": "[encoded data removed]",
      "text/plain": [
       "<Figure size 432x288 with 1 Axes>"
      ]
     },
     "metadata": {},
     "output_type": "display_data"
    },
    {
     "data": {
      "text/plain": [
       "PyPlot3D backend, t = 0.05, scene:\n",
       "  PROCaN"
      ]
     },
     "execution_count": 31,
     "metadata": {},
     "output_type": "execute_result"
    },
    {
     "data": {
      "text/plain": [
       "<Figure size 432x288 with 0 Axes>"
      ]
     },
     "metadata": {},
     "output_type": "display_data"
    }
   ],
   "source": [
    "import roboticstoolbox as rtb\n",
    "from roboticstoolbox import ETS, ERobot\n",
    "Link = rtb.robot.Link\n",
    "link1 = Link(l0, name='link1')\n",
    "link2 = Link(l1, name='link2', parent=link1)\n",
    "link3 = Link(l2, name='link3', parent=link2)\n",
    "link4 = Link(l3, name='link4', parent=link3)\n",
    "link5 = Link(l4, name='link5', parent=link4)\n",
    "link6 = Link(l5, name='link6', parent=link5)\n",
    "#link6 = Link(l5, name='link5', parent=link4)\n",
    "ee = Link(ET.tx(0.1),name='ee', parent=link5)\n",
    "procan = ERobot([link1, link2, link3,link4,link5,link6,ee],name='PROCaN')\n",
    "\n",
    "print(procan)\n",
    "q = [0,0,pi,-pi/2,pi,pi/2]\n",
    "qz = [0,0,0,0,0,0]\n",
    "qr = [0,0,pi,-pi/2,0,0]\n",
    "q5 = [0.5,0.5,-1.57,0,1.57,1.57]\n",
    "procan.plot(q)"
   ]
  },
  {
   "cell_type": "code",
   "execution_count": 2,
   "metadata": {},
   "outputs": [
    {
     "name": "stdout",
     "output_type": "stream",
     "text": [
      "ERobot: PROCaN, 6 joints (RRRRRR)\n",
      "┌─────┬───────┬───────┬────────┬─────────────────────────────┐\n",
      "│link │ link  │ joint │ parent │     ETS: parent to link     │\n",
      "├─────┼───────┼───────┼────────┼─────────────────────────────┤\n",
      "│   0 │ link1 │     0 │ BASE   │ tz(0.1) ⊕ Rz(q0)            │\n",
      "│   1 │ link2 │     1 │ link1  │ Rx(90°) ⊕ Rz(q1)            │\n",
      "│   2 │ link3 │     2 │ link2  │ tx(0.2) ⊕ Rz(q2)            │\n",
      "│   3 │ link4 │     3 │ link3  │ tx(0.1) ⊕ Ry(-90°) ⊕ Rz(q3) │\n",
      "│   4 │ link5 │     4 │ link4  │ Rx(90°) ⊕ tz(-0.1) ⊕ Rz(q4) │\n",
      "│   5 │ link6 │     5 │ link5  │ Ry(90°) ⊕ Rz(q5)            │\n",
      "│   6 │ @ee   │       │ link6  │ tx(0.1)                     │\n",
      "└─────┴───────┴───────┴────────┴─────────────────────────────┘\n",
      "\n"
     ]
    },
    {
     "data": {
      "image/png": "[encoded data removed]",
      "text/plain": [
       "<Figure size 640x480 with 1 Axes>"
      ]
     },
     "metadata": {},
     "output_type": "display_data"
    },
    {
     "data": {
      "text/plain": [
       "PyPlot3D backend, t = 0.05, scene:\n",
       "  PROCaN"
      ]
     },
     "execution_count": 2,
     "metadata": {},
     "output_type": "execute_result"
    },
    {
     "data": {
      "text/plain": [
       "<Figure size 640x480 with 0 Axes>"
      ]
     },
     "metadata": {},
     "output_type": "display_data"
    }
   ],
   "source": [
    "import roboticstoolbox as rtb\n",
    "from roboticstoolbox import ET, ETS, ERobot\n",
    "import math\n",
    "\n",
    "pi = math.pi\n",
    "l0 = ET.tz(0.1)*ET.Rz()\n",
    "\n",
    "l1 = ET.Rx(pi/2)*ET.Rz()\n",
    "l2 = ET.tx(0.2)*ET.Rz()\n",
    "l3 = ET.tx(0.1)*ET.Ry(-pi/2)*ET.Rz()\n",
    "l4 = ET.Rx(pi/2)*ET.tz(-0.1)*ET.Rz()\n",
    "l5 = ET.Ry(pi/2)*ET.Rz()\n",
    "\n",
    "Link = rtb.robot.Link\n",
    "link0 = Link(l0, name='link1')\n",
    "\n",
    "link1 = Link(l1, name='link2', parent=link0)\n",
    "link2 = Link(l2, name='link3', parent=link1)\n",
    "link3 = Link(l3, name='link4', parent=link2)\n",
    "link4 = Link(l4, name='link5', parent=link3)\n",
    "link5 = Link(l5, name='link6', parent=link4)\n",
    "#link6 = Link(l5, name='link5', parent=link4)\n",
    "ee = Link(ET.tx(0.1),name='ee', parent=link5)\n",
    "procan = ERobot([link0,link1,link2,link3,link4,link5,ee],name='PROCaN')\n",
    "\n",
    "print(procan)\n",
    "q = [0,0,pi,-pi/2]\n",
    "qz = [0,0,0,0,0,0]\n",
    "qr = [1.0,0.5,1.0,0.5,1.5,1.5]\n",
    "q3 = [0,0.5,0.5,0.5,0.5,0.5]\n",
    "q4 = [0.78,0.78,0.78,0.78,0.78,0.78]\n",
    "q90 = [1.57,1.57,1.57,1.57,1.57,1.57]\n",
    "procan.plot(qz)"
   ]
  },
  {
   "cell_type": "code",
   "execution_count": 14,
   "metadata": {},
   "outputs": [
    {
     "name": "stdout",
     "output_type": "stream",
     "text": [
      "ERobot: PROCaN, 6 joints (RRRRRR)\n",
      "┌─────┬────────┬───────┬────────┬──────────────────────────────────────────────┐\n",
      "│link │  link  │ joint │ parent │             ETS: parent to link              │\n",
      "├─────┼────────┼───────┼────────┼──────────────────────────────────────────────┤\n",
      "│   0 │ link1  │     0 │ BASE   │ tz(0.0294) ⊕ Rz(q0)                          │\n",
      "│   1 │ link2  │     1 │ link1  │ Rx(90°) ⊕ Rz(q1)                             │\n",
      "│   2 │ link3  │     2 │ link2  │ tx(0.23) ⊕ Rz(q2)                            │\n",
      "│   3 │ link4  │     3 │ link3  │ tx(0.08173) ⊕ Ry(-90°) ⊕ Rz(q3)              │\n",
      "│   4 │ link5  │     4 │ link4  │ tx(-0.0019) ⊕ tz(-0.0904) ⊕ Rx(90°) ⊕ Rz(q4) │\n",
      "│   5 │ @link6 │     5 │ link5  │ tx(0.0438) ⊕ Ry(90°) ⊕ Rz(q5)                │\n",
      "└─────┴────────┴───────┴────────┴──────────────────────────────────────────────┘\n",
      "\n"
     ]
    },
    {
     "data": {
      "image/png": "[encoded data removed]",
      "text/plain": [
       "<Figure size 432x288 with 1 Axes>"
      ]
     },
     "metadata": {},
     "output_type": "display_data"
    },
    {
     "data": {
      "text/plain": [
       "PyPlot3D backend, t = 0.05, scene:\n",
       "  PROCaN"
      ]
     },
     "execution_count": 14,
     "metadata": {},
     "output_type": "execute_result"
    },
    {
     "data": {
      "text/plain": [
       "<Figure size 432x288 with 0 Axes>"
      ]
     },
     "metadata": {},
     "output_type": "display_data"
    }
   ],
   "source": [
    "import roboticstoolbox as rtb\n",
    "from roboticstoolbox import ET, ETS, ERobot\n",
    "import math\n",
    "\n",
    "pi = math.pi\n",
    "\n",
    "l0 = ET.tz(0.0294)*ET.Rz()\n",
    "l1 = ET.Rx(pi/2)*ET.Rz()\n",
    "l2 = ET.tx(0.23)*ET.Rz()\n",
    "l3 = ET.tx(0.08173)*ET.Ry(-pi/2)*ET.Rz()\n",
    "l4 = ET.tx(-0.0019)*ET.tz(-0.0904)*ET.Rx(pi/2)*ET.Rz()\n",
    "l5 = ET.tx(0.0438)*ET.Ry(pi/2)*ET.Rz()\n",
    "\n",
    "Link = rtb.robot.Link\n",
    "link0 = Link(l0, name='link1')\n",
    "link1 = Link(l1, name='link2', parent=link0)\n",
    "link2 = Link(l2, name='link3', parent=link1)\n",
    "link3 = Link(l3, name='link4', parent=link2)\n",
    "link4 = Link(l4, name='link5', parent=link3)\n",
    "link5 = Link(l5, name='link6', parent=link4)\n",
    "\n",
    "procan = ERobot([link0,link1,link2,link3,link4,link5],name='PROCaN')\n",
    "\n",
    "print(procan)\n",
    "q = [0,0,pi,1.57,pi,1.57]\n",
    "procan.plot(q)"
   ]
  },
  {
   "cell_type": "code",
   "execution_count": 16,
   "metadata": {},
   "outputs": [
    {
     "name": "stdout",
     "output_type": "stream",
     "text": [
      "DHRobot: Puma 560 (by Unimation), 6 joints (RRRRRR), dynamics, geometry, standard DH parameters\n",
      "┌────┬────────┬────────┬────────┬─────────┬────────┐\n",
      "│θⱼ  │   dⱼ   │   aⱼ   │   ⍺ⱼ   │   q⁻    │   q⁺   │\n",
      "├────┼────────┼────────┼────────┼─────────┼────────┤\n",
      "│ q1 │ 0.6718 │      0 │  90.0° │ -160.0° │ 160.0° │\n",
      "│ q2 │      0 │ 0.4318 │   0.0° │ -110.0° │ 110.0° │\n",
      "│ q3 │   0.15 │ 0.0203 │ -90.0° │ -135.0° │ 135.0° │\n",
      "│ q4 │ 0.4318 │      0 │  90.0° │ -266.0° │ 266.0° │\n",
      "│ q5 │      0 │      0 │ -90.0° │ -100.0° │ 100.0° │\n",
      "│ q6 │      0 │      0 │   0.0° │ -266.0° │ 266.0° │\n",
      "└────┴────────┴────────┴────────┴─────────┴────────┘\n",
      "\n",
      "┌─┬──┐\n",
      "└─┴──┘\n",
      "\n",
      "┌─────┬─────┬──────┬───────┬─────┬──────┬─────┐\n",
      "│name │ q0  │ q1   │ q2    │ q3  │ q4   │ q5  │\n",
      "├─────┼─────┼──────┼───────┼─────┼──────┼─────┤\n",
      "│  qr │  0° │  90° │ -90°  │  0° │  0°  │  0° │\n",
      "│  qz │  0° │  0°  │  0°   │  0° │  0°  │  0° │\n",
      "│  qn │  0° │  45° │  180° │  0° │  45° │  0° │\n",
      "│  qs │  0° │  0°  │ -90°  │  0° │  0°  │  0° │\n",
      "└─────┴─────┴──────┴───────┴─────┴──────┴─────┘\n",
      "\n"
     ]
    }
   ],
   "source": [
    "import roboticstoolbox as rtb\n",
    "puma = rtb.models.DH.Puma560()\n",
    "print(puma)"
   ]
  },
  {
   "cell_type": "code",
   "execution_count": null,
   "metadata": {},
   "outputs": [],
   "source": [
    "import roboticstoolbox as rtb\n",
    "import swift\n",
    "\n",
    "#cria ambiente no swift\n",
    "env = swift.Swift()\n",
    "env.launch()\n",
    "#inicializa robô Panda\n",
    "panda = rtb.models.Panda()\n",
    "panda.q = panda.qr\n",
    "#adiciona robô ao ambiente\n",
    "env.add(panda)\n",
    "#evita fechamento da tab do navegador\n",
    "env.hold()\n",
    "\n"
   ]
  },
  {
   "cell_type": "code",
   "execution_count": 2,
   "metadata": {},
   "outputs": [
    {
     "data": {
      "text/plain": [
       "0.7853981633974483"
      ]
     },
     "execution_count": 2,
     "metadata": {},
     "output_type": "execute_result"
    }
   ],
   "source": [
    "import numpy as np\n",
    "theta1 = np.arctan2(0.2,0.2)\n",
    "theta1"
   ]
  },
  {
   "cell_type": "code",
   "execution_count": 16,
   "metadata": {},
   "outputs": [
    {
     "data": {
      "text/plain": [
       "array([0., 0., 0., 0., 0., 0.])"
      ]
     },
     "execution_count": 16,
     "metadata": {},
     "output_type": "execute_result"
    }
   ],
   "source": [
    "puma.qz"
   ]
  },
  {
   "cell_type": "code",
   "execution_count": 17,
   "metadata": {},
   "outputs": [
    {
     "data": {
      "text/plain": [
       "array([ -7.55437971, -12.21999013,  -6.40218527,  -5.43030193,\n",
       "        -4.95184683,  -2.11777052])"
      ]
     },
     "execution_count": 17,
     "metadata": {},
     "output_type": "execute_result"
    }
   ],
   "source": [
    "import roboticstoolbox as rtb\n",
    "puma = rtb.models.DH.Puma560()\n",
    "puma.accel(puma.qz, 0.5 * np.ones(6), np.zeros(6))"
   ]
  },
  {
   "cell_type": "code",
   "execution_count": 20,
   "metadata": {},
   "outputs": [
    {
     "name": "stdout",
     "output_type": "stream",
     "text": [
      "DHRobot: Puma 560 (by Unimation), 6 joints (RRRRRR), dynamics, geometry, standard DH parameters\n",
      "┌────┬────────┬────────┬────────┬─────────┬────────┐\n",
      "│θⱼ  │   dⱼ   │   aⱼ   │   ⍺ⱼ   │   q⁻    │   q⁺   │\n",
      "├────┼────────┼────────┼────────┼─────────┼────────┤\n",
      "│ q1 │ 0.6718 │      0 │  90.0° │ -160.0° │ 160.0° │\n",
      "│ q2 │      0 │ 0.4318 │   0.0° │ -110.0° │ 110.0° │\n",
      "│ q3 │   0.15 │ 0.0203 │ -90.0° │ -135.0° │ 135.0° │\n",
      "│ q4 │ 0.4318 │      0 │  90.0° │ -266.0° │ 266.0° │\n",
      "│ q5 │      0 │      0 │ -90.0° │ -100.0° │ 100.0° │\n",
      "│ q6 │      0 │      0 │   0.0° │ -266.0° │ 266.0° │\n",
      "└────┴────────┴────────┴────────┴─────────┴────────┘\n",
      "\n",
      "┌─┬──┐\n",
      "└─┴──┘\n",
      "\n",
      "┌─────┬─────┬──────┬───────┬─────┬──────┬─────┐\n",
      "│name │ q0  │ q1   │ q2    │ q3  │ q4   │ q5  │\n",
      "├─────┼─────┼──────┼───────┼─────┼──────┼─────┤\n",
      "│  qr │  0° │  90° │ -90°  │  0° │  0°  │  0° │\n",
      "│  qz │  0° │  0°  │  0°   │  0° │  0°  │  0° │\n",
      "│  qn │  0° │  45° │  180° │  0° │  45° │  0° │\n",
      "│  qs │  0° │  0°  │ -90°  │  0° │  0°  │  0° │\n",
      "└─────┴─────┴──────┴───────┴─────┴──────┴─────┘\n",
      "\n"
     ]
    }
   ],
   "source": [
    "print(puma)"
   ]
  },
  {
   "cell_type": "code",
   "execution_count": 21,
   "metadata": {},
   "outputs": [
    {
     "data": {
      "text/plain": [
       "array([[ 3.96112610e+00, -1.62664810e-01, -1.38913811e-01,\n",
       "         1.64000000e-03, -4.32144000e-04,  4.00000000e-05],\n",
       "       [-1.62664810e-01,  4.45662210e+00,  3.72736323e-01,\n",
       "         5.61100343e-19,  1.88574400e-03,  2.44929360e-21],\n",
       "       [-1.38913810e-01,  3.72736324e-01,  9.38652730e-01,\n",
       "         5.61100343e-19,  1.88574400e-03,  2.44929360e-21],\n",
       "       [ 1.64000000e-03,  5.61100343e-19,  5.61100343e-19,\n",
       "         1.92430626e-01,  2.08189956e-20,  4.00000000e-05],\n",
       "       [-4.32144000e-04,  1.88574400e-03,  1.88574400e-03,\n",
       "         2.08189956e-20,  1.71348452e-01,  2.44929360e-21],\n",
       "       [ 4.00000000e-05,  2.44929360e-21,  2.44929360e-21,\n",
       "         4.00000000e-05,  2.44929360e-21,  1.94104506e-01]])"
      ]
     },
     "execution_count": 21,
     "metadata": {},
     "output_type": "execute_result"
    }
   ],
   "source": [
    "import roboticstoolbox as rtb\n",
    "puma = rtb.models.DH.Puma560()\n",
    "puma.inertia(puma.qz)"
   ]
  },
  {
   "cell_type": "code",
   "execution_count": null,
   "metadata": {},
   "outputs": [],
   "source": []
  }
 ],
 "metadata": {
  "kernelspec": {
   "display_name": "Python 3",
   "language": "python",
   "name": "python3"
  },
  "language_info": {
   "codemirror_mode": {
    "name": "ipython",
    "version": 3
   },
   "file_extension": ".py",
   "mimetype": "text/x-python",
   "name": "python",
   "nbconvert_exporter": "python",
   "pygments_lexer": "ipython3",
   "version": "3.7.5 (tags/v3.7.5:5c02a39a0b, Oct 15 2019, 00:11:34) [MSC v.1916 64 bit (AMD64)]"
  },
  "orig_nbformat": 4,
  "vscode": {
   "interpreter": {
    "hash": "d49c3f6d6dd49f9272b571d9fad348ab55b8c6c3f691520d74ed0af1f69c3dd8"
   }
  }
 },
 "nbformat": 4,
 "nbformat_minor": 2
}
