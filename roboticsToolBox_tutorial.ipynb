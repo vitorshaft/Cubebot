{
 "cells": [
  {
   "cell_type": "code",
   "execution_count": 1,
   "metadata": {},
   "outputs": [],
   "source": [
    "import numpy as np\n",
    "import math\n",
    "import roboticstoolbox as rtb\n",
    "from spatialmath.base import *\n",
    "from spatialmath import SE3\n",
    "import spatialmath.base.symbolic as sym\n",
    "\n"
   ]
  },
  {
   "cell_type": "code",
   "execution_count": 2,
   "metadata": {},
   "outputs": [
    {
     "data": {
      "text/latex": [
       "$\\displaystyle \\theta$"
      ],
      "text/plain": [
       "theta"
      ]
     },
     "execution_count": 2,
     "metadata": {},
     "output_type": "execute_result"
    }
   ],
   "source": [
    "theta = sym.symbol('theta')\n",
    "theta"
   ]
  },
  {
   "cell_type": "code",
   "execution_count": 3,
   "metadata": {},
   "outputs": [
    {
     "data": {
      "text/plain": [
       "sympy.core.symbol.Symbol"
      ]
     },
     "execution_count": 3,
     "metadata": {},
     "output_type": "execute_result"
    }
   ],
   "source": [
    "type(theta)"
   ]
  },
  {
   "cell_type": "code",
   "execution_count": 4,
   "metadata": {},
   "outputs": [
    {
     "data": {
      "text/plain": [
       "True"
      ]
     },
     "execution_count": 4,
     "metadata": {},
     "output_type": "execute_result"
    }
   ],
   "source": [
    "theta.is_real"
   ]
  },
  {
   "cell_type": "code",
   "execution_count": 6,
   "metadata": {},
   "outputs": [],
   "source": [
    "R = rotx(theta)"
   ]
  },
  {
   "cell_type": "code",
   "execution_count": 7,
   "metadata": {},
   "outputs": [
    {
     "data": {
      "text/plain": [
       "array([[1, 0, 0],\n",
       "       [0, cos(theta), -sin(theta)],\n",
       "       [0, sin(theta), cos(theta)]], dtype=object)"
      ]
     },
     "execution_count": 7,
     "metadata": {},
     "output_type": "execute_result"
    }
   ],
   "source": [
    "R"
   ]
  },
  {
   "cell_type": "code",
   "execution_count": 8,
   "metadata": {},
   "outputs": [],
   "source": [
    "T = trotx(theta)"
   ]
  },
  {
   "cell_type": "code",
   "execution_count": 9,
   "metadata": {},
   "outputs": [
    {
     "data": {
      "text/plain": [
       "array([[1, 0, 0, 0],\n",
       "       [0, cos(theta), -sin(theta), 0],\n",
       "       [0, sin(theta), cos(theta), 0],\n",
       "       [0, 0, 0, 1]], dtype=object)"
      ]
     },
     "execution_count": 9,
     "metadata": {},
     "output_type": "execute_result"
    }
   ],
   "source": [
    "T"
   ]
  },
  {
   "cell_type": "code",
   "execution_count": 11,
   "metadata": {},
   "outputs": [
    {
     "data": {
      "text/plain": [
       "cos"
      ]
     },
     "execution_count": 11,
     "metadata": {},
     "output_type": "execute_result"
    }
   ],
   "source": [
    "type(T[1,1])"
   ]
  },
  {
   "cell_type": "code",
   "execution_count": 12,
   "metadata": {},
   "outputs": [
    {
     "data": {
      "text/plain": [
       "array([[1, 0, 0, 0],\n",
       "       [0, -sin(theta)**2 + cos(theta)**2, -2*sin(theta)*cos(theta), 0],\n",
       "       [0, 2*sin(theta)*cos(theta), -sin(theta)**2 + cos(theta)**2, 0],\n",
       "       [0, 0, 0, 1]], dtype=object)"
      ]
     },
     "execution_count": 12,
     "metadata": {},
     "output_type": "execute_result"
    }
   ],
   "source": [
    "T@T"
   ]
  },
  {
   "cell_type": "code",
   "execution_count": 13,
   "metadata": {},
   "outputs": [],
   "source": [
    "T = SE3.Rx(theta)"
   ]
  },
  {
   "cell_type": "code",
   "execution_count": 14,
   "metadata": {},
   "outputs": [
    {
     "data": {
      "text/plain": [
       "   1         0         0         0         \n",
       "   0        cos(theta)   -sin(theta)   0         \n",
       "   0        sin(theta)   cos(theta)    0         \n",
       "   0         0         0         1         \n"
      ]
     },
     "execution_count": 14,
     "metadata": {},
     "output_type": "execute_result"
    }
   ],
   "source": [
    "T"
   ]
  },
  {
   "cell_type": "code",
   "execution_count": 16,
   "metadata": {},
   "outputs": [],
   "source": [
    "T2 = T*T"
   ]
  },
  {
   "cell_type": "code",
   "execution_count": 17,
   "metadata": {},
   "outputs": [
    {
     "data": {
      "text/plain": [
       "   1        0            0             0         \n",
       "  0            -sin(theta)**2 + cos(theta)**2 -2*sin(theta)*cos(theta) 0             \n",
       "  0            2*sin(theta)*cos(theta) -sin(theta)**2 + cos(theta)**2 0             \n",
       "   0        0            0             1         \n"
      ]
     },
     "execution_count": 17,
     "metadata": {},
     "output_type": "execute_result"
    }
   ],
   "source": [
    "T2"
   ]
  },
  {
   "cell_type": "code",
   "execution_count": 18,
   "metadata": {},
   "outputs": [],
   "source": [
    "puma = rtb.models.DH.Puma560(symbolic=True)"
   ]
  },
  {
   "cell_type": "code",
   "execution_count": 19,
   "metadata": {},
   "outputs": [
    {
     "name": "stdout",
     "output_type": "stream",
     "text": [
      "DHRobot: Puma 560 (by Unimation), 6 joints (RRRRRR), dynamics, geometry, standard DH parameters\n",
      "┌────┬────────┬────────┬───────┬─────────┬────────┐\n",
      "│θⱼ  │   dⱼ   │   aⱼ   │  ⍺ⱼ   │   q⁻    │   q⁺   │\n",
      "├────┼────────┼────────┼───────┼─────────┼────────┤\n",
      "│ q1 │ 0.6718 │      0 │  pi/2 │ -160.0° │ 160.0° │\n",
      "│ q2 │      0 │ 0.4318 │     0 │ -110.0° │ 110.0° │\n",
      "│ q3 │   0.15 │ 0.0203 │ -pi/2 │ -135.0° │ 135.0° │\n",
      "│ q4 │ 0.4318 │      0 │  pi/2 │ -266.0° │ 266.0° │\n",
      "│ q5 │      0 │      0 │ -pi/2 │ -100.0° │ 100.0° │\n",
      "│ q6 │      0 │      0 │     0 │ -266.0° │ 266.0° │\n",
      "└────┴────────┴────────┴───────┴─────────┴────────┘\n",
      "\n",
      "┌─┬──┐\n",
      "└─┴──┘\n",
      "\n",
      "┌─────┬─────┬──────────────────────┬───────────────────────┬─────┬──────────────────────┬─────┐\n",
      "│name │ q0  │ q1                   │ q2                    │ q3  │ q4                   │ q5  │\n",
      "├─────┼─────┼──────────────────────┼───────────────────────┼─────┼──────────────────────┼─────┤\n",
      "│  qr │  0° │ 28.6478897565412*pi° │ -28.6478897565412*pi° │  0° │  0°                  │  0° │\n",
      "│  qz │  0° │  0°                  │  0°                   │  0° │  0°                  │  0° │\n",
      "│  qn │  0° │ 14.3239448782706*pi° │ 57.2957795130823*pi°  │  0° │ 14.3239448782706*pi° │  0° │\n",
      "│  qs │  0° │  0°                  │ -28.6478897565412*pi° │  0° │  0°                  │  0° │\n",
      "└─────┴─────┴──────────────────────┴───────────────────────┴─────┴──────────────────────┴─────┘\n",
      "\n"
     ]
    }
   ],
   "source": [
    "print(puma)"
   ]
  },
  {
   "cell_type": "code",
   "execution_count": 20,
   "metadata": {},
   "outputs": [],
   "source": [
    "q = sym.symbol('q_:6')"
   ]
  },
  {
   "cell_type": "code",
   "execution_count": 21,
   "metadata": {},
   "outputs": [
    {
     "data": {
      "text/plain": [
       "(q_0, q_1, q_2, q_3, q_4, q_5)"
      ]
     },
     "execution_count": 21,
     "metadata": {},
     "output_type": "execute_result"
    }
   ],
   "source": [
    "q"
   ]
  },
  {
   "cell_type": "code",
   "execution_count": 22,
   "metadata": {},
   "outputs": [
    {
     "data": {
      "text/latex": [
       "$\\displaystyle q_{0}$"
      ],
      "text/plain": [
       "q_0"
      ]
     },
     "execution_count": 22,
     "metadata": {},
     "output_type": "execute_result"
    }
   ],
   "source": [
    "q[0]"
   ]
  },
  {
   "cell_type": "code",
   "execution_count": 23,
   "metadata": {},
   "outputs": [],
   "source": [
    "T = puma.fkine(q)"
   ]
  },
  {
   "cell_type": "code",
   "execution_count": 24,
   "metadata": {},
   "outputs": [
    {
     "data": {
      "text/plain": [
       "  (((-sin(q_1)*sin(q_2)*cos(q_0) + cos(q_0)*cos(q_1)*cos(q_2))*cos(q_3) - sin(q_0)*sin(q_3))*cos(q_4) + (-sin(q_1)*cos(q_0)*cos(q_2) - sin(q_2)*cos(q_0)*cos(q_1))*sin(q_4))*cos(q_5) + (-(-sin(q_1)*sin(q_2)*cos(q_0) + cos(q_0)*cos(q_1)*cos(q_2))*sin(q_3) - sin(q_0)*cos(q_3))*sin(q_5) -(((-sin(q_1)*sin(q_2)*cos(q_0) + cos(q_0)*cos(q_1)*cos(q_2))*cos(q_3) - sin(q_0)*sin(q_3))*cos(q_4) + (-sin(q_1)*cos(q_0)*cos(q_2) - sin(q_2)*cos(q_0)*cos(q_1))*sin(q_4))*sin(q_5) + (-(-sin(q_1)*sin(q_2)*cos(q_0) + cos(q_0)*cos(q_1)*cos(q_2))*sin(q_3) - sin(q_0)*cos(q_3))*cos(q_5) -((-sin(q_1)*sin(q_2)*cos(q_0) + cos(q_0)*cos(q_1)*cos(q_2))*cos(q_3) - sin(q_0)*sin(q_3))*sin(q_4) + (-sin(q_1)*cos(q_0)*cos(q_2) - sin(q_2)*cos(q_0)*cos(q_1))*cos(q_4) 0.15005*sin(q_0) - 0.0203*sin(q_1)*sin(q_2)*cos(q_0) - 0.4318*sin(q_1)*cos(q_0)*cos(q_2) - 0.4318*sin(q_2)*cos(q_0)*cos(q_1) + 0.0203*cos(q_0)*cos(q_1)*cos(q_2) + 0.4318*cos(q_0)*cos(q_1)  \n",
       "  (((-sin(q_0)*sin(q_1)*sin(q_2) + sin(q_0)*cos(q_1)*cos(q_2))*cos(q_3) + sin(q_3)*cos(q_0))*cos(q_4) + (-sin(q_0)*sin(q_1)*cos(q_2) - sin(q_0)*sin(q_2)*cos(q_1))*sin(q_4))*cos(q_5) + (-(-sin(q_0)*sin(q_1)*sin(q_2) + sin(q_0)*cos(q_1)*cos(q_2))*sin(q_3) + cos(q_0)*cos(q_3))*sin(q_5) -(((-sin(q_0)*sin(q_1)*sin(q_2) + sin(q_0)*cos(q_1)*cos(q_2))*cos(q_3) + sin(q_3)*cos(q_0))*cos(q_4) + (-sin(q_0)*sin(q_1)*cos(q_2) - sin(q_0)*sin(q_2)*cos(q_1))*sin(q_4))*sin(q_5) + (-(-sin(q_0)*sin(q_1)*sin(q_2) + sin(q_0)*cos(q_1)*cos(q_2))*sin(q_3) + cos(q_0)*cos(q_3))*cos(q_5) -((-sin(q_0)*sin(q_1)*sin(q_2) + sin(q_0)*cos(q_1)*cos(q_2))*cos(q_3) + sin(q_3)*cos(q_0))*sin(q_4) + (-sin(q_0)*sin(q_1)*cos(q_2) - sin(q_0)*sin(q_2)*cos(q_1))*cos(q_4) -0.0203*sin(q_0)*sin(q_1)*sin(q_2) - 0.4318*sin(q_0)*sin(q_1)*cos(q_2) - 0.4318*sin(q_0)*sin(q_2)*cos(q_1) + 0.0203*sin(q_0)*cos(q_1)*cos(q_2) + 0.4318*sin(q_0)*cos(q_1) - 0.15005*cos(q_0)  \n",
       "  ((-sin(q_1)*sin(q_2) + cos(q_1)*cos(q_2))*sin(q_4) + (sin(q_1)*cos(q_2) + sin(q_2)*cos(q_1))*cos(q_3)*cos(q_4))*cos(q_5) - (sin(q_1)*cos(q_2) + sin(q_2)*cos(q_1))*sin(q_3)*sin(q_5) -((-sin(q_1)*sin(q_2) + cos(q_1)*cos(q_2))*sin(q_4) + (sin(q_1)*cos(q_2) + sin(q_2)*cos(q_1))*cos(q_3)*cos(q_4))*sin(q_5) - (sin(q_1)*cos(q_2) + sin(q_2)*cos(q_1))*sin(q_3)*cos(q_5) (-sin(q_1)*sin(q_2) + cos(q_1)*cos(q_2))*cos(q_4) - (sin(q_1)*cos(q_2) + sin(q_2)*cos(q_1))*sin(q_4)*cos(q_3) -0.4318*sin(q_1)*sin(q_2) + 0.0203*sin(q_1)*cos(q_2) + 0.4318*sin(q_1) + 0.0203*sin(q_2)*cos(q_1) + 0.4318*cos(q_1)*cos(q_2) + 0.67183  \n",
       "  0            0            0            1             \n"
      ]
     },
     "execution_count": 24,
     "metadata": {},
     "output_type": "execute_result"
    }
   ],
   "source": [
    "T"
   ]
  },
  {
   "cell_type": "code",
   "execution_count": 25,
   "metadata": {},
   "outputs": [
    {
     "data": {
      "text/plain": [
       "  (((-sin(q_1)*sin(q_2)*cos(q_0) + cos(q_0)*cos(q_1)*cos(q_2))*cos(q_3) - sin(q_0)*sin(q_3))*cos(q_4) + (-sin(q_1)*cos(q_0)*cos(q_2) - sin(q_2)*cos(q_0)*cos(q_1))*sin(q_4))*cos(q_5) + (-(-sin(q_1)*sin(q_2)*cos(q_0) + cos(q_0)*cos(q_1)*cos(q_2))*sin(q_3) - sin(q_0)*cos(q_3))*sin(q_5) -(((-sin(q_1)*sin(q_2)*cos(q_0) + cos(q_0)*cos(q_1)*cos(q_2))*cos(q_3) - sin(q_0)*sin(q_3))*cos(q_4) + (-sin(q_1)*cos(q_0)*cos(q_2) - sin(q_2)*cos(q_0)*cos(q_1))*sin(q_4))*sin(q_5) + (-(-sin(q_1)*sin(q_2)*cos(q_0) + cos(q_0)*cos(q_1)*cos(q_2))*sin(q_3) - sin(q_0)*cos(q_3))*cos(q_5) -((-sin(q_1)*sin(q_2)*cos(q_0) + cos(q_0)*cos(q_1)*cos(q_2))*cos(q_3) - sin(q_0)*sin(q_3))*sin(q_4) + (-sin(q_1)*cos(q_0)*cos(q_2) - sin(q_2)*cos(q_0)*cos(q_1))*cos(q_4) 0.15005*sin(q_0) - 0.0203*sin(q_1)*sin(q_2)*cos(q_0) - 0.4318*sin(q_1)*cos(q_0)*cos(q_2) - 0.4318*sin(q_2)*cos(q_0)*cos(q_1) + 0.0203*cos(q_0)*cos(q_1)*cos(q_2) + 0.4318*cos(q_0)*cos(q_1)  \n",
       "  (((-sin(q_0)*sin(q_1)*sin(q_2) + sin(q_0)*cos(q_1)*cos(q_2))*cos(q_3) + sin(q_3)*cos(q_0))*cos(q_4) + (-sin(q_0)*sin(q_1)*cos(q_2) - sin(q_0)*sin(q_2)*cos(q_1))*sin(q_4))*cos(q_5) + (-(-sin(q_0)*sin(q_1)*sin(q_2) + sin(q_0)*cos(q_1)*cos(q_2))*sin(q_3) + cos(q_0)*cos(q_3))*sin(q_5) -(((-sin(q_0)*sin(q_1)*sin(q_2) + sin(q_0)*cos(q_1)*cos(q_2))*cos(q_3) + sin(q_3)*cos(q_0))*cos(q_4) + (-sin(q_0)*sin(q_1)*cos(q_2) - sin(q_0)*sin(q_2)*cos(q_1))*sin(q_4))*sin(q_5) + (-(-sin(q_0)*sin(q_1)*sin(q_2) + sin(q_0)*cos(q_1)*cos(q_2))*sin(q_3) + cos(q_0)*cos(q_3))*cos(q_5) -((-sin(q_0)*sin(q_1)*sin(q_2) + sin(q_0)*cos(q_1)*cos(q_2))*cos(q_3) + sin(q_3)*cos(q_0))*sin(q_4) + (-sin(q_0)*sin(q_1)*cos(q_2) - sin(q_0)*sin(q_2)*cos(q_1))*cos(q_4) -0.0203*sin(q_0)*sin(q_1)*sin(q_2) - 0.4318*sin(q_0)*sin(q_1)*cos(q_2) - 0.4318*sin(q_0)*sin(q_2)*cos(q_1) + 0.0203*sin(q_0)*cos(q_1)*cos(q_2) + 0.4318*sin(q_0)*cos(q_1) - 0.15005*cos(q_0)  \n",
       "  ((-sin(q_1)*sin(q_2) + cos(q_1)*cos(q_2))*sin(q_4) + (sin(q_1)*cos(q_2) + sin(q_2)*cos(q_1))*cos(q_3)*cos(q_4))*cos(q_5) - (sin(q_1)*cos(q_2) + sin(q_2)*cos(q_1))*sin(q_3)*sin(q_5) -((-sin(q_1)*sin(q_2) + cos(q_1)*cos(q_2))*sin(q_4) + (sin(q_1)*cos(q_2) + sin(q_2)*cos(q_1))*cos(q_3)*cos(q_4))*sin(q_5) - (sin(q_1)*cos(q_2) + sin(q_2)*cos(q_1))*sin(q_3)*cos(q_5) (-sin(q_1)*sin(q_2) + cos(q_1)*cos(q_2))*cos(q_4) - (sin(q_1)*cos(q_2) + sin(q_2)*cos(q_1))*sin(q_4)*cos(q_3) -0.4318*sin(q_1)*sin(q_2) + 0.0203*sin(q_1)*cos(q_2) + 0.4318*sin(q_1) + 0.0203*sin(q_2)*cos(q_1) + 0.4318*cos(q_1)*cos(q_2) + 0.67183  \n",
       "  0            0            0            1             \n"
      ]
     },
     "execution_count": 25,
     "metadata": {},
     "output_type": "execute_result"
    }
   ],
   "source": [
    "T[0]"
   ]
  },
  {
   "cell_type": "code",
   "execution_count": 26,
   "metadata": {},
   "outputs": [
    {
     "data": {
      "text/latex": [
       "$\\displaystyle \\left[\\begin{matrix}\\left(\\left(\\left(- \\sin{\\left(q_{1} \\right)} \\sin{\\left(q_{2} \\right)} \\cos{\\left(q_{0} \\right)} + \\cos{\\left(q_{0} \\right)} \\cos{\\left(q_{1} \\right)} \\cos{\\left(q_{2} \\right)}\\right) \\cos{\\left(q_{3} \\right)} - \\sin{\\left(q_{0} \\right)} \\sin{\\left(q_{3} \\right)}\\right) \\cos{\\left(q_{4} \\right)} + \\left(- \\sin{\\left(q_{1} \\right)} \\cos{\\left(q_{0} \\right)} \\cos{\\left(q_{2} \\right)} - \\sin{\\left(q_{2} \\right)} \\cos{\\left(q_{0} \\right)} \\cos{\\left(q_{1} \\right)}\\right) \\sin{\\left(q_{4} \\right)}\\right) \\cos{\\left(q_{5} \\right)} + \\left(- \\left(- \\sin{\\left(q_{1} \\right)} \\sin{\\left(q_{2} \\right)} \\cos{\\left(q_{0} \\right)} + \\cos{\\left(q_{0} \\right)} \\cos{\\left(q_{1} \\right)} \\cos{\\left(q_{2} \\right)}\\right) \\sin{\\left(q_{3} \\right)} - \\sin{\\left(q_{0} \\right)} \\cos{\\left(q_{3} \\right)}\\right) \\sin{\\left(q_{5} \\right)} & - \\left(\\left(\\left(- \\sin{\\left(q_{1} \\right)} \\sin{\\left(q_{2} \\right)} \\cos{\\left(q_{0} \\right)} + \\cos{\\left(q_{0} \\right)} \\cos{\\left(q_{1} \\right)} \\cos{\\left(q_{2} \\right)}\\right) \\cos{\\left(q_{3} \\right)} - \\sin{\\left(q_{0} \\right)} \\sin{\\left(q_{3} \\right)}\\right) \\cos{\\left(q_{4} \\right)} + \\left(- \\sin{\\left(q_{1} \\right)} \\cos{\\left(q_{0} \\right)} \\cos{\\left(q_{2} \\right)} - \\sin{\\left(q_{2} \\right)} \\cos{\\left(q_{0} \\right)} \\cos{\\left(q_{1} \\right)}\\right) \\sin{\\left(q_{4} \\right)}\\right) \\sin{\\left(q_{5} \\right)} + \\left(- \\left(- \\sin{\\left(q_{1} \\right)} \\sin{\\left(q_{2} \\right)} \\cos{\\left(q_{0} \\right)} + \\cos{\\left(q_{0} \\right)} \\cos{\\left(q_{1} \\right)} \\cos{\\left(q_{2} \\right)}\\right) \\sin{\\left(q_{3} \\right)} - \\sin{\\left(q_{0} \\right)} \\cos{\\left(q_{3} \\right)}\\right) \\cos{\\left(q_{5} \\right)} & - \\left(\\left(- \\sin{\\left(q_{1} \\right)} \\sin{\\left(q_{2} \\right)} \\cos{\\left(q_{0} \\right)} + \\cos{\\left(q_{0} \\right)} \\cos{\\left(q_{1} \\right)} \\cos{\\left(q_{2} \\right)}\\right) \\cos{\\left(q_{3} \\right)} - \\sin{\\left(q_{0} \\right)} \\sin{\\left(q_{3} \\right)}\\right) \\sin{\\left(q_{4} \\right)} + \\left(- \\sin{\\left(q_{1} \\right)} \\cos{\\left(q_{0} \\right)} \\cos{\\left(q_{2} \\right)} - \\sin{\\left(q_{2} \\right)} \\cos{\\left(q_{0} \\right)} \\cos{\\left(q_{1} \\right)}\\right) \\cos{\\left(q_{4} \\right)} & 0.15005 \\sin{\\left(q_{0} \\right)} - 0.0203 \\sin{\\left(q_{1} \\right)} \\sin{\\left(q_{2} \\right)} \\cos{\\left(q_{0} \\right)} - 0.4318 \\sin{\\left(q_{1} \\right)} \\cos{\\left(q_{0} \\right)} \\cos{\\left(q_{2} \\right)} - 0.4318 \\sin{\\left(q_{2} \\right)} \\cos{\\left(q_{0} \\right)} \\cos{\\left(q_{1} \\right)} + 0.0203 \\cos{\\left(q_{0} \\right)} \\cos{\\left(q_{1} \\right)} \\cos{\\left(q_{2} \\right)} + 0.4318 \\cos{\\left(q_{0} \\right)} \\cos{\\left(q_{1} \\right)}\\\\\\left(\\left(\\left(- \\sin{\\left(q_{0} \\right)} \\sin{\\left(q_{1} \\right)} \\sin{\\left(q_{2} \\right)} + \\sin{\\left(q_{0} \\right)} \\cos{\\left(q_{1} \\right)} \\cos{\\left(q_{2} \\right)}\\right) \\cos{\\left(q_{3} \\right)} + \\sin{\\left(q_{3} \\right)} \\cos{\\left(q_{0} \\right)}\\right) \\cos{\\left(q_{4} \\right)} + \\left(- \\sin{\\left(q_{0} \\right)} \\sin{\\left(q_{1} \\right)} \\cos{\\left(q_{2} \\right)} - \\sin{\\left(q_{0} \\right)} \\sin{\\left(q_{2} \\right)} \\cos{\\left(q_{1} \\right)}\\right) \\sin{\\left(q_{4} \\right)}\\right) \\cos{\\left(q_{5} \\right)} + \\left(- \\left(- \\sin{\\left(q_{0} \\right)} \\sin{\\left(q_{1} \\right)} \\sin{\\left(q_{2} \\right)} + \\sin{\\left(q_{0} \\right)} \\cos{\\left(q_{1} \\right)} \\cos{\\left(q_{2} \\right)}\\right) \\sin{\\left(q_{3} \\right)} + \\cos{\\left(q_{0} \\right)} \\cos{\\left(q_{3} \\right)}\\right) \\sin{\\left(q_{5} \\right)} & - \\left(\\left(\\left(- \\sin{\\left(q_{0} \\right)} \\sin{\\left(q_{1} \\right)} \\sin{\\left(q_{2} \\right)} + \\sin{\\left(q_{0} \\right)} \\cos{\\left(q_{1} \\right)} \\cos{\\left(q_{2} \\right)}\\right) \\cos{\\left(q_{3} \\right)} + \\sin{\\left(q_{3} \\right)} \\cos{\\left(q_{0} \\right)}\\right) \\cos{\\left(q_{4} \\right)} + \\left(- \\sin{\\left(q_{0} \\right)} \\sin{\\left(q_{1} \\right)} \\cos{\\left(q_{2} \\right)} - \\sin{\\left(q_{0} \\right)} \\sin{\\left(q_{2} \\right)} \\cos{\\left(q_{1} \\right)}\\right) \\sin{\\left(q_{4} \\right)}\\right) \\sin{\\left(q_{5} \\right)} + \\left(- \\left(- \\sin{\\left(q_{0} \\right)} \\sin{\\left(q_{1} \\right)} \\sin{\\left(q_{2} \\right)} + \\sin{\\left(q_{0} \\right)} \\cos{\\left(q_{1} \\right)} \\cos{\\left(q_{2} \\right)}\\right) \\sin{\\left(q_{3} \\right)} + \\cos{\\left(q_{0} \\right)} \\cos{\\left(q_{3} \\right)}\\right) \\cos{\\left(q_{5} \\right)} & - \\left(\\left(- \\sin{\\left(q_{0} \\right)} \\sin{\\left(q_{1} \\right)} \\sin{\\left(q_{2} \\right)} + \\sin{\\left(q_{0} \\right)} \\cos{\\left(q_{1} \\right)} \\cos{\\left(q_{2} \\right)}\\right) \\cos{\\left(q_{3} \\right)} + \\sin{\\left(q_{3} \\right)} \\cos{\\left(q_{0} \\right)}\\right) \\sin{\\left(q_{4} \\right)} + \\left(- \\sin{\\left(q_{0} \\right)} \\sin{\\left(q_{1} \\right)} \\cos{\\left(q_{2} \\right)} - \\sin{\\left(q_{0} \\right)} \\sin{\\left(q_{2} \\right)} \\cos{\\left(q_{1} \\right)}\\right) \\cos{\\left(q_{4} \\right)} & - 0.0203 \\sin{\\left(q_{0} \\right)} \\sin{\\left(q_{1} \\right)} \\sin{\\left(q_{2} \\right)} - 0.4318 \\sin{\\left(q_{0} \\right)} \\sin{\\left(q_{1} \\right)} \\cos{\\left(q_{2} \\right)} - 0.4318 \\sin{\\left(q_{0} \\right)} \\sin{\\left(q_{2} \\right)} \\cos{\\left(q_{1} \\right)} + 0.0203 \\sin{\\left(q_{0} \\right)} \\cos{\\left(q_{1} \\right)} \\cos{\\left(q_{2} \\right)} + 0.4318 \\sin{\\left(q_{0} \\right)} \\cos{\\left(q_{1} \\right)} - 0.15005 \\cos{\\left(q_{0} \\right)}\\\\\\left(\\left(- \\sin{\\left(q_{1} \\right)} \\sin{\\left(q_{2} \\right)} + \\cos{\\left(q_{1} \\right)} \\cos{\\left(q_{2} \\right)}\\right) \\sin{\\left(q_{4} \\right)} + \\left(\\sin{\\left(q_{1} \\right)} \\cos{\\left(q_{2} \\right)} + \\sin{\\left(q_{2} \\right)} \\cos{\\left(q_{1} \\right)}\\right) \\cos{\\left(q_{3} \\right)} \\cos{\\left(q_{4} \\right)}\\right) \\cos{\\left(q_{5} \\right)} - \\left(\\sin{\\left(q_{1} \\right)} \\cos{\\left(q_{2} \\right)} + \\sin{\\left(q_{2} \\right)} \\cos{\\left(q_{1} \\right)}\\right) \\sin{\\left(q_{3} \\right)} \\sin{\\left(q_{5} \\right)} & - \\left(\\left(- \\sin{\\left(q_{1} \\right)} \\sin{\\left(q_{2} \\right)} + \\cos{\\left(q_{1} \\right)} \\cos{\\left(q_{2} \\right)}\\right) \\sin{\\left(q_{4} \\right)} + \\left(\\sin{\\left(q_{1} \\right)} \\cos{\\left(q_{2} \\right)} + \\sin{\\left(q_{2} \\right)} \\cos{\\left(q_{1} \\right)}\\right) \\cos{\\left(q_{3} \\right)} \\cos{\\left(q_{4} \\right)}\\right) \\sin{\\left(q_{5} \\right)} - \\left(\\sin{\\left(q_{1} \\right)} \\cos{\\left(q_{2} \\right)} + \\sin{\\left(q_{2} \\right)} \\cos{\\left(q_{1} \\right)}\\right) \\sin{\\left(q_{3} \\right)} \\cos{\\left(q_{5} \\right)} & \\left(- \\sin{\\left(q_{1} \\right)} \\sin{\\left(q_{2} \\right)} + \\cos{\\left(q_{1} \\right)} \\cos{\\left(q_{2} \\right)}\\right) \\cos{\\left(q_{4} \\right)} - \\left(\\sin{\\left(q_{1} \\right)} \\cos{\\left(q_{2} \\right)} + \\sin{\\left(q_{2} \\right)} \\cos{\\left(q_{1} \\right)}\\right) \\sin{\\left(q_{4} \\right)} \\cos{\\left(q_{3} \\right)} & - 0.4318 \\sin{\\left(q_{1} \\right)} \\sin{\\left(q_{2} \\right)} + 0.0203 \\sin{\\left(q_{1} \\right)} \\cos{\\left(q_{2} \\right)} + 0.4318 \\sin{\\left(q_{1} \\right)} + 0.0203 \\sin{\\left(q_{2} \\right)} \\cos{\\left(q_{1} \\right)} + 0.4318 \\cos{\\left(q_{1} \\right)} \\cos{\\left(q_{2} \\right)} + 0.67183\\\\0 & 0 & 0 & 1\\end{matrix}\\right]$"
      ],
      "text/plain": [
       "Matrix([\n",
       "[(((-sin(q_1)*sin(q_2)*cos(q_0) + cos(q_0)*cos(q_1)*cos(q_2))*cos(q_3) - sin(q_0)*sin(q_3))*cos(q_4) + (-sin(q_1)*cos(q_0)*cos(q_2) - sin(q_2)*cos(q_0)*cos(q_1))*sin(q_4))*cos(q_5) + (-(-sin(q_1)*sin(q_2)*cos(q_0) + cos(q_0)*cos(q_1)*cos(q_2))*sin(q_3) - sin(q_0)*cos(q_3))*sin(q_5), -(((-sin(q_1)*sin(q_2)*cos(q_0) + cos(q_0)*cos(q_1)*cos(q_2))*cos(q_3) - sin(q_0)*sin(q_3))*cos(q_4) + (-sin(q_1)*cos(q_0)*cos(q_2) - sin(q_2)*cos(q_0)*cos(q_1))*sin(q_4))*sin(q_5) + (-(-sin(q_1)*sin(q_2)*cos(q_0) + cos(q_0)*cos(q_1)*cos(q_2))*sin(q_3) - sin(q_0)*cos(q_3))*cos(q_5), -((-sin(q_1)*sin(q_2)*cos(q_0) + cos(q_0)*cos(q_1)*cos(q_2))*cos(q_3) - sin(q_0)*sin(q_3))*sin(q_4) + (-sin(q_1)*cos(q_0)*cos(q_2) - sin(q_2)*cos(q_0)*cos(q_1))*cos(q_4),  0.15005*sin(q_0) - 0.0203*sin(q_1)*sin(q_2)*cos(q_0) - 0.4318*sin(q_1)*cos(q_0)*cos(q_2) - 0.4318*sin(q_2)*cos(q_0)*cos(q_1) + 0.0203*cos(q_0)*cos(q_1)*cos(q_2) + 0.4318*cos(q_0)*cos(q_1)],\n",
       "[(((-sin(q_0)*sin(q_1)*sin(q_2) + sin(q_0)*cos(q_1)*cos(q_2))*cos(q_3) + sin(q_3)*cos(q_0))*cos(q_4) + (-sin(q_0)*sin(q_1)*cos(q_2) - sin(q_0)*sin(q_2)*cos(q_1))*sin(q_4))*cos(q_5) + (-(-sin(q_0)*sin(q_1)*sin(q_2) + sin(q_0)*cos(q_1)*cos(q_2))*sin(q_3) + cos(q_0)*cos(q_3))*sin(q_5), -(((-sin(q_0)*sin(q_1)*sin(q_2) + sin(q_0)*cos(q_1)*cos(q_2))*cos(q_3) + sin(q_3)*cos(q_0))*cos(q_4) + (-sin(q_0)*sin(q_1)*cos(q_2) - sin(q_0)*sin(q_2)*cos(q_1))*sin(q_4))*sin(q_5) + (-(-sin(q_0)*sin(q_1)*sin(q_2) + sin(q_0)*cos(q_1)*cos(q_2))*sin(q_3) + cos(q_0)*cos(q_3))*cos(q_5), -((-sin(q_0)*sin(q_1)*sin(q_2) + sin(q_0)*cos(q_1)*cos(q_2))*cos(q_3) + sin(q_3)*cos(q_0))*sin(q_4) + (-sin(q_0)*sin(q_1)*cos(q_2) - sin(q_0)*sin(q_2)*cos(q_1))*cos(q_4), -0.0203*sin(q_0)*sin(q_1)*sin(q_2) - 0.4318*sin(q_0)*sin(q_1)*cos(q_2) - 0.4318*sin(q_0)*sin(q_2)*cos(q_1) + 0.0203*sin(q_0)*cos(q_1)*cos(q_2) + 0.4318*sin(q_0)*cos(q_1) - 0.15005*cos(q_0)],\n",
       "[                                                                                                     ((-sin(q_1)*sin(q_2) + cos(q_1)*cos(q_2))*sin(q_4) + (sin(q_1)*cos(q_2) + sin(q_2)*cos(q_1))*cos(q_3)*cos(q_4))*cos(q_5) - (sin(q_1)*cos(q_2) + sin(q_2)*cos(q_1))*sin(q_3)*sin(q_5),                                                                                                      -((-sin(q_1)*sin(q_2) + cos(q_1)*cos(q_2))*sin(q_4) + (sin(q_1)*cos(q_2) + sin(q_2)*cos(q_1))*cos(q_3)*cos(q_4))*sin(q_5) - (sin(q_1)*cos(q_2) + sin(q_2)*cos(q_1))*sin(q_3)*cos(q_5),                                                             (-sin(q_1)*sin(q_2) + cos(q_1)*cos(q_2))*cos(q_4) - (sin(q_1)*cos(q_2) + sin(q_2)*cos(q_1))*sin(q_4)*cos(q_3),                                                       -0.4318*sin(q_1)*sin(q_2) + 0.0203*sin(q_1)*cos(q_2) + 0.4318*sin(q_1) + 0.0203*sin(q_2)*cos(q_1) + 0.4318*cos(q_1)*cos(q_2) + 0.67183],\n",
       "[                                                                                                                                                                                                                                                                                        0,                                                                                                                                                                                                                                                                                          0,                                                                                                                                                                         0,                                                                                                                                                                                            1]])"
      ]
     },
     "execution_count": 26,
     "metadata": {},
     "output_type": "execute_result"
    }
   ],
   "source": [
    "from sympy import Matrix\n",
    "Matrix(T.A)"
   ]
  },
  {
   "cell_type": "code",
   "execution_count": 27,
   "metadata": {},
   "outputs": [],
   "source": [
    "Ts = T.simplify()"
   ]
  },
  {
   "cell_type": "code",
   "execution_count": 28,
   "metadata": {},
   "outputs": [
    {
     "data": {
      "text/latex": [
       "$\\displaystyle \\left[\\begin{matrix}- \\left(\\left(\\sin{\\left(q_{0} \\right)} \\sin{\\left(q_{3} \\right)} - \\cos{\\left(q_{0} \\right)} \\cos{\\left(q_{3} \\right)} \\cos{\\left(q_{1} + q_{2} \\right)}\\right) \\cos{\\left(q_{4} \\right)} + \\sin{\\left(q_{4} \\right)} \\sin{\\left(q_{1} + q_{2} \\right)} \\cos{\\left(q_{0} \\right)}\\right) \\cos{\\left(q_{5} \\right)} - \\left(\\sin{\\left(q_{0} \\right)} \\cos{\\left(q_{3} \\right)} + \\sin{\\left(q_{3} \\right)} \\cos{\\left(q_{0} \\right)} \\cos{\\left(q_{1} + q_{2} \\right)}\\right) \\sin{\\left(q_{5} \\right)} & \\left(\\left(\\sin{\\left(q_{0} \\right)} \\sin{\\left(q_{3} \\right)} - \\cos{\\left(q_{0} \\right)} \\cos{\\left(q_{3} \\right)} \\cos{\\left(q_{1} + q_{2} \\right)}\\right) \\cos{\\left(q_{4} \\right)} + \\sin{\\left(q_{4} \\right)} \\sin{\\left(q_{1} + q_{2} \\right)} \\cos{\\left(q_{0} \\right)}\\right) \\sin{\\left(q_{5} \\right)} - \\left(\\sin{\\left(q_{0} \\right)} \\cos{\\left(q_{3} \\right)} + \\sin{\\left(q_{3} \\right)} \\cos{\\left(q_{0} \\right)} \\cos{\\left(q_{1} + q_{2} \\right)}\\right) \\cos{\\left(q_{5} \\right)} & \\left(\\sin{\\left(q_{0} \\right)} \\sin{\\left(q_{3} \\right)} - \\cos{\\left(q_{0} \\right)} \\cos{\\left(q_{3} \\right)} \\cos{\\left(q_{1} + q_{2} \\right)}\\right) \\sin{\\left(q_{4} \\right)} - \\sin{\\left(q_{1} + q_{2} \\right)} \\cos{\\left(q_{0} \\right)} \\cos{\\left(q_{4} \\right)} & 0.15005 \\sin{\\left(q_{0} \\right)} - 0.4318 \\sin{\\left(q_{1} + q_{2} \\right)} \\cos{\\left(q_{0} \\right)} + 0.4318 \\cos{\\left(q_{0} \\right)} \\cos{\\left(q_{1} \\right)} + 0.0203 \\cos{\\left(q_{0} \\right)} \\cos{\\left(q_{1} + q_{2} \\right)}\\\\\\left(\\left(\\sin{\\left(q_{0} \\right)} \\cos{\\left(q_{3} \\right)} \\cos{\\left(q_{1} + q_{2} \\right)} + \\sin{\\left(q_{3} \\right)} \\cos{\\left(q_{0} \\right)}\\right) \\cos{\\left(q_{4} \\right)} - \\sin{\\left(q_{0} \\right)} \\sin{\\left(q_{4} \\right)} \\sin{\\left(q_{1} + q_{2} \\right)}\\right) \\cos{\\left(q_{5} \\right)} - \\left(\\sin{\\left(q_{0} \\right)} \\sin{\\left(q_{3} \\right)} \\cos{\\left(q_{1} + q_{2} \\right)} - \\cos{\\left(q_{0} \\right)} \\cos{\\left(q_{3} \\right)}\\right) \\sin{\\left(q_{5} \\right)} & \\left(- \\left(\\sin{\\left(q_{0} \\right)} \\cos{\\left(q_{3} \\right)} \\cos{\\left(q_{1} + q_{2} \\right)} + \\sin{\\left(q_{3} \\right)} \\cos{\\left(q_{0} \\right)}\\right) \\cos{\\left(q_{4} \\right)} + \\sin{\\left(q_{0} \\right)} \\sin{\\left(q_{4} \\right)} \\sin{\\left(q_{1} + q_{2} \\right)}\\right) \\sin{\\left(q_{5} \\right)} + \\left(- \\sin{\\left(q_{0} \\right)} \\sin{\\left(q_{3} \\right)} \\cos{\\left(q_{1} + q_{2} \\right)} + \\cos{\\left(q_{0} \\right)} \\cos{\\left(q_{3} \\right)}\\right) \\cos{\\left(q_{5} \\right)} & - \\left(\\sin{\\left(q_{0} \\right)} \\cos{\\left(q_{3} \\right)} \\cos{\\left(q_{1} + q_{2} \\right)} + \\sin{\\left(q_{3} \\right)} \\cos{\\left(q_{0} \\right)}\\right) \\sin{\\left(q_{4} \\right)} - \\sin{\\left(q_{0} \\right)} \\sin{\\left(q_{1} + q_{2} \\right)} \\cos{\\left(q_{4} \\right)} & - 0.4318 \\sin{\\left(q_{0} \\right)} \\sin{\\left(q_{1} + q_{2} \\right)} + 0.4318 \\sin{\\left(q_{0} \\right)} \\cos{\\left(q_{1} \\right)} + 0.0203 \\sin{\\left(q_{0} \\right)} \\cos{\\left(q_{1} + q_{2} \\right)} - 0.15005 \\cos{\\left(q_{0} \\right)}\\\\\\left(\\sin{\\left(q_{4} \\right)} \\cos{\\left(q_{1} + q_{2} \\right)} + \\sin{\\left(q_{1} + q_{2} \\right)} \\cos{\\left(q_{3} \\right)} \\cos{\\left(q_{4} \\right)}\\right) \\cos{\\left(q_{5} \\right)} - \\sin{\\left(q_{3} \\right)} \\sin{\\left(q_{5} \\right)} \\sin{\\left(q_{1} + q_{2} \\right)} & - \\left(\\sin{\\left(q_{4} \\right)} \\cos{\\left(q_{1} + q_{2} \\right)} + \\sin{\\left(q_{1} + q_{2} \\right)} \\cos{\\left(q_{3} \\right)} \\cos{\\left(q_{4} \\right)}\\right) \\sin{\\left(q_{5} \\right)} - \\sin{\\left(q_{3} \\right)} \\sin{\\left(q_{1} + q_{2} \\right)} \\cos{\\left(q_{5} \\right)} & - \\sin{\\left(q_{4} \\right)} \\sin{\\left(q_{1} + q_{2} \\right)} \\cos{\\left(q_{3} \\right)} + \\cos{\\left(q_{4} \\right)} \\cos{\\left(q_{1} + q_{2} \\right)} & 0.4318 \\sin{\\left(q_{1} \\right)} + 0.0203 \\sin{\\left(q_{1} + q_{2} \\right)} + 0.4318 \\cos{\\left(q_{1} + q_{2} \\right)} + 0.67183\\\\0 & 0 & 0 & 1\\end{matrix}\\right]$"
      ],
      "text/plain": [
       "Matrix([\n",
       "[-((sin(q_0)*sin(q_3) - cos(q_0)*cos(q_3)*cos(q_1 + q_2))*cos(q_4) + sin(q_4)*sin(q_1 + q_2)*cos(q_0))*cos(q_5) - (sin(q_0)*cos(q_3) + sin(q_3)*cos(q_0)*cos(q_1 + q_2))*sin(q_5),   ((sin(q_0)*sin(q_3) - cos(q_0)*cos(q_3)*cos(q_1 + q_2))*cos(q_4) + sin(q_4)*sin(q_1 + q_2)*cos(q_0))*sin(q_5) - (sin(q_0)*cos(q_3) + sin(q_3)*cos(q_0)*cos(q_1 + q_2))*cos(q_5),  (sin(q_0)*sin(q_3) - cos(q_0)*cos(q_3)*cos(q_1 + q_2))*sin(q_4) - sin(q_1 + q_2)*cos(q_0)*cos(q_4),  0.15005*sin(q_0) - 0.4318*sin(q_1 + q_2)*cos(q_0) + 0.4318*cos(q_0)*cos(q_1) + 0.0203*cos(q_0)*cos(q_1 + q_2)],\n",
       "[ ((sin(q_0)*cos(q_3)*cos(q_1 + q_2) + sin(q_3)*cos(q_0))*cos(q_4) - sin(q_0)*sin(q_4)*sin(q_1 + q_2))*cos(q_5) - (sin(q_0)*sin(q_3)*cos(q_1 + q_2) - cos(q_0)*cos(q_3))*sin(q_5), (-(sin(q_0)*cos(q_3)*cos(q_1 + q_2) + sin(q_3)*cos(q_0))*cos(q_4) + sin(q_0)*sin(q_4)*sin(q_1 + q_2))*sin(q_5) + (-sin(q_0)*sin(q_3)*cos(q_1 + q_2) + cos(q_0)*cos(q_3))*cos(q_5), -(sin(q_0)*cos(q_3)*cos(q_1 + q_2) + sin(q_3)*cos(q_0))*sin(q_4) - sin(q_0)*sin(q_1 + q_2)*cos(q_4), -0.4318*sin(q_0)*sin(q_1 + q_2) + 0.4318*sin(q_0)*cos(q_1) + 0.0203*sin(q_0)*cos(q_1 + q_2) - 0.15005*cos(q_0)],\n",
       "[                                                                        (sin(q_4)*cos(q_1 + q_2) + sin(q_1 + q_2)*cos(q_3)*cos(q_4))*cos(q_5) - sin(q_3)*sin(q_5)*sin(q_1 + q_2),                                                                         -(sin(q_4)*cos(q_1 + q_2) + sin(q_1 + q_2)*cos(q_3)*cos(q_4))*sin(q_5) - sin(q_3)*sin(q_1 + q_2)*cos(q_5),                                         -sin(q_4)*sin(q_1 + q_2)*cos(q_3) + cos(q_4)*cos(q_1 + q_2),                                      0.4318*sin(q_1) + 0.0203*sin(q_1 + q_2) + 0.4318*cos(q_1 + q_2) + 0.67183],\n",
       "[                                                                                                                                                                               0,                                                                                                                                                                                 0,                                                                                                   0,                                                                                                              1]])"
      ]
     },
     "execution_count": 28,
     "metadata": {},
     "output_type": "execute_result"
    }
   ],
   "source": [
    "M = Matrix(Ts.A)\n",
    "M"
   ]
  },
  {
   "cell_type": "code",
   "execution_count": 29,
   "metadata": {},
   "outputs": [
    {
     "data": {
      "text/latex": [
       "$\\displaystyle \\left[\\begin{matrix}0.15005 \\sin{\\left(q_{0} \\right)} - 0.4318 \\sin{\\left(q_{1} + q_{2} \\right)} \\cos{\\left(q_{0} \\right)} + 0.4318 \\cos{\\left(q_{0} \\right)} \\cos{\\left(q_{1} \\right)} + 0.0203 \\cos{\\left(q_{0} \\right)} \\cos{\\left(q_{1} + q_{2} \\right)}\\\\- 0.4318 \\sin{\\left(q_{0} \\right)} \\sin{\\left(q_{1} + q_{2} \\right)} + 0.4318 \\sin{\\left(q_{0} \\right)} \\cos{\\left(q_{1} \\right)} + 0.0203 \\sin{\\left(q_{0} \\right)} \\cos{\\left(q_{1} + q_{2} \\right)} - 0.15005 \\cos{\\left(q_{0} \\right)}\\\\0.4318 \\sin{\\left(q_{1} \\right)} + 0.0203 \\sin{\\left(q_{1} + q_{2} \\right)} + 0.4318 \\cos{\\left(q_{1} + q_{2} \\right)} + 0.67183\\end{matrix}\\right]$"
      ],
      "text/plain": [
       "Matrix([\n",
       "[ 0.15005*sin(q_0) - 0.4318*sin(q_1 + q_2)*cos(q_0) + 0.4318*cos(q_0)*cos(q_1) + 0.0203*cos(q_0)*cos(q_1 + q_2)],\n",
       "[-0.4318*sin(q_0)*sin(q_1 + q_2) + 0.4318*sin(q_0)*cos(q_1) + 0.0203*sin(q_0)*cos(q_1 + q_2) - 0.15005*cos(q_0)],\n",
       "[                                     0.4318*sin(q_1) + 0.0203*sin(q_1 + q_2) + 0.4318*cos(q_1 + q_2) + 0.67183]])"
      ]
     },
     "execution_count": 29,
     "metadata": {},
     "output_type": "execute_result"
    }
   ],
   "source": [
    "M[:3,3]"
   ]
  },
  {
   "cell_type": "code",
   "execution_count": 30,
   "metadata": {},
   "outputs": [
    {
     "name": "stdout",
     "output_type": "stream",
     "text": [
      "T[0] = -((sin(q_0)*sin(q_3) - cos(q_0)*cos(q_3)*cos(q_1 + q_2))*cos(q_4) + sin(q_4)*sin(q_1 + q_2)*cos(q_0))*cos(q_5) - (sin(q_0)*cos(q_3) + sin(q_3)*cos(q_0)*cos(q_1 + q_2))*sin(q_5);\n",
      "T[1] = ((sin(q_0)*sin(q_3) - cos(q_0)*cos(q_3)*cos(q_1 + q_2))*cos(q_4) + sin(q_4)*sin(q_1 + q_2)*cos(q_0))*sin(q_5) - (sin(q_0)*cos(q_3) + sin(q_3)*cos(q_0)*cos(q_1 + q_2))*cos(q_5);\n",
      "T[2] = (sin(q_0)*sin(q_3) - cos(q_0)*cos(q_3)*cos(q_1 + q_2))*sin(q_4) - sin(q_1 + q_2)*cos(q_0)*cos(q_4);\n",
      "T[3] = 0.15004999999999999*sin(q_0) - 0.43180000000000002*sin(q_1 + q_2)*cos(q_0) + 0.43180000000000002*cos(q_0)*cos(q_1) + 0.020299999999999999*cos(q_0)*cos(q_1 + q_2);\n",
      "T[4] = ((sin(q_0)*cos(q_3)*cos(q_1 + q_2) + sin(q_3)*cos(q_0))*cos(q_4) - sin(q_0)*sin(q_4)*sin(q_1 + q_2))*cos(q_5) - (sin(q_0)*sin(q_3)*cos(q_1 + q_2) - cos(q_0)*cos(q_3))*sin(q_5);\n",
      "T[5] = (-(sin(q_0)*cos(q_3)*cos(q_1 + q_2) + sin(q_3)*cos(q_0))*cos(q_4) + sin(q_0)*sin(q_4)*sin(q_1 + q_2))*sin(q_5) + (-sin(q_0)*sin(q_3)*cos(q_1 + q_2) + cos(q_0)*cos(q_3))*cos(q_5);\n",
      "T[6] = -(sin(q_0)*cos(q_3)*cos(q_1 + q_2) + sin(q_3)*cos(q_0))*sin(q_4) - sin(q_0)*sin(q_1 + q_2)*cos(q_4);\n",
      "T[7] = -0.43180000000000002*sin(q_0)*sin(q_1 + q_2) + 0.43180000000000002*sin(q_0)*cos(q_1) + 0.020299999999999999*sin(q_0)*cos(q_1 + q_2) - 0.15004999999999999*cos(q_0);\n",
      "T[8] = (sin(q_4)*cos(q_1 + q_2) + sin(q_1 + q_2)*cos(q_3)*cos(q_4))*cos(q_5) - sin(q_3)*sin(q_5)*sin(q_1 + q_2);\n",
      "T[9] = -(sin(q_4)*cos(q_1 + q_2) + sin(q_1 + q_2)*cos(q_3)*cos(q_4))*sin(q_5) - sin(q_3)*sin(q_1 + q_2)*cos(q_5);\n",
      "T[10] = -sin(q_4)*sin(q_1 + q_2)*cos(q_3) + cos(q_4)*cos(q_1 + q_2);\n",
      "T[11] = 0.43180000000000007*sin(q_1) + 0.020299999999999999*sin(q_1 + q_2) + 0.43180000000000007*cos(q_1 + q_2) + 0.67182999999999993;\n",
      "T[12] = 0;\n",
      "T[13] = 0;\n",
      "T[14] = 0;\n",
      "T[15] = 1;\n"
     ]
    }
   ],
   "source": [
    "from sympy import ccode, pycode, octave_code\n",
    "print(ccode(M, assign_to=\"T\"))"
   ]
  },
  {
   "cell_type": "code",
   "execution_count": 31,
   "metadata": {},
   "outputs": [
    {
     "name": "stdout",
     "output_type": "stream",
     "text": [
      "ImmutableDenseMatrix([[-((math.sin(q_0)*math.sin(q_3) - math.cos(q_0)*math.cos(q_3)*math.cos(q_1 + q_2))*math.cos(q_4) + math.sin(q_4)*math.sin(q_1 + q_2)*math.cos(q_0))*math.cos(q_5) - (math.sin(q_0)*math.cos(q_3) + math.sin(q_3)*math.cos(q_0)*math.cos(q_1 + q_2))*math.sin(q_5), ((math.sin(q_0)*math.sin(q_3) - math.cos(q_0)*math.cos(q_3)*math.cos(q_1 + q_2))*math.cos(q_4) + math.sin(q_4)*math.sin(q_1 + q_2)*math.cos(q_0))*math.sin(q_5) - (math.sin(q_0)*math.cos(q_3) + math.sin(q_3)*math.cos(q_0)*math.cos(q_1 + q_2))*math.cos(q_5), (math.sin(q_0)*math.sin(q_3) - math.cos(q_0)*math.cos(q_3)*math.cos(q_1 + q_2))*math.sin(q_4) - math.sin(q_1 + q_2)*math.cos(q_0)*math.cos(q_4), 0.15005*math.sin(q_0) - 0.4318*math.sin(q_1 + q_2)*math.cos(q_0) + 0.4318*math.cos(q_0)*math.cos(q_1) + 0.0203*math.cos(q_0)*math.cos(q_1 + q_2)], [((math.sin(q_0)*math.cos(q_3)*math.cos(q_1 + q_2) + math.sin(q_3)*math.cos(q_0))*math.cos(q_4) - math.sin(q_0)*math.sin(q_4)*math.sin(q_1 + q_2))*math.cos(q_5) - (math.sin(q_0)*math.sin(q_3)*math.cos(q_1 + q_2) - math.cos(q_0)*math.cos(q_3))*math.sin(q_5), (-(math.sin(q_0)*math.cos(q_3)*math.cos(q_1 + q_2) + math.sin(q_3)*math.cos(q_0))*math.cos(q_4) + math.sin(q_0)*math.sin(q_4)*math.sin(q_1 + q_2))*math.sin(q_5) + (-math.sin(q_0)*math.sin(q_3)*math.cos(q_1 + q_2) + math.cos(q_0)*math.cos(q_3))*math.cos(q_5), -(math.sin(q_0)*math.cos(q_3)*math.cos(q_1 + q_2) + math.sin(q_3)*math.cos(q_0))*math.sin(q_4) - math.sin(q_0)*math.sin(q_1 + q_2)*math.cos(q_4), -0.4318*math.sin(q_0)*math.sin(q_1 + q_2) + 0.4318*math.sin(q_0)*math.cos(q_1) + 0.0203*math.sin(q_0)*math.cos(q_1 + q_2) - 0.15005*math.cos(q_0)], [(math.sin(q_4)*math.cos(q_1 + q_2) + math.sin(q_1 + q_2)*math.cos(q_3)*math.cos(q_4))*math.cos(q_5) - math.sin(q_3)*math.sin(q_5)*math.sin(q_1 + q_2), -(math.sin(q_4)*math.cos(q_1 + q_2) + math.sin(q_1 + q_2)*math.cos(q_3)*math.cos(q_4))*math.sin(q_5) - math.sin(q_3)*math.sin(q_1 + q_2)*math.cos(q_5), -math.sin(q_4)*math.sin(q_1 + q_2)*math.cos(q_3) + math.cos(q_4)*math.cos(q_1 + q_2), 0.4318*math.sin(q_1) + 0.0203*math.sin(q_1 + q_2) + 0.4318*math.cos(q_1 + q_2) + 0.67183], [0, 0, 0, 1]])\n"
     ]
    }
   ],
   "source": [
    "print(pycode(M))"
   ]
  },
  {
   "cell_type": "code",
   "execution_count": 32,
   "metadata": {},
   "outputs": [],
   "source": [
    "from sympy import lambdify\n",
    "T_func = lambdify(q, M, modules='numpy')"
   ]
  },
  {
   "cell_type": "code",
   "execution_count": 33,
   "metadata": {},
   "outputs": [
    {
     "data": {
      "text/plain": [
       "array([[ 1.     , -0.     , -0.     ,  0.4521 ],\n",
       "       [ 0.     ,  1.     , -0.     , -0.15005],\n",
       "       [ 0.     , -0.     ,  1.     ,  1.10363],\n",
       "       [ 0.     ,  0.     ,  0.     ,  1.     ]])"
      ]
     },
     "execution_count": 33,
     "metadata": {},
     "output_type": "execute_result"
    }
   ],
   "source": [
    "T_func(0, 0, 0, 0, 0, 0)"
   ]
  },
  {
   "cell_type": "code",
   "execution_count": 34,
   "metadata": {},
   "outputs": [],
   "source": [
    "g = sym.symbol('g')\n",
    "puma.gravity = [0, 0, g]"
   ]
  },
  {
   "cell_type": "code",
   "execution_count": 35,
   "metadata": {},
   "outputs": [
    {
     "data": {
      "text/plain": [
       "(qd_0, qd_1, qd_2, qd_3, qd_4, qd_5)"
      ]
     },
     "execution_count": 35,
     "metadata": {},
     "output_type": "execute_result"
    }
   ],
   "source": [
    "qd = sym.symbol('qd_:6')\n",
    "qd"
   ]
  },
  {
   "cell_type": "code",
   "execution_count": 36,
   "metadata": {},
   "outputs": [
    {
     "data": {
      "text/plain": [
       "(qdd_0, qdd_1, qdd_2, qdd_3, qdd_4, qdd_5)"
      ]
     },
     "execution_count": 36,
     "metadata": {},
     "output_type": "execute_result"
    }
   ],
   "source": [
    "qdd = sym.symbol('qdd_:6')\n",
    "qdd"
   ]
  },
  {
   "cell_type": "code",
   "execution_count": 37,
   "metadata": {},
   "outputs": [
    {
     "name": "stdout",
     "output_type": "stream",
     "text": [
      "Wall time: 325 ms\n"
     ]
    }
   ],
   "source": [
    "%time tau = puma.rne_python(q, qd, qdd)"
   ]
  },
  {
   "cell_type": "code",
   "execution_count": 38,
   "metadata": {},
   "outputs": [],
   "source": [
    "from sympy import trigsimp, simplify"
   ]
  },
  {
   "cell_type": "code",
   "execution_count": null,
   "metadata": {},
   "outputs": [],
   "source": []
  }
 ],
 "metadata": {
  "kernelspec": {
   "display_name": "Python 3",
   "language": "python",
   "name": "python3"
  },
  "language_info": {
   "codemirror_mode": {
    "name": "ipython",
    "version": 3
   },
   "file_extension": ".py",
   "mimetype": "text/x-python",
   "name": "python",
   "nbconvert_exporter": "python",
   "pygments_lexer": "ipython3",
   "version": "3.7.5 (tags/v3.7.5:5c02a39a0b, Oct 15 2019, 00:11:34) [MSC v.1916 64 bit (AMD64)]"
  },
  "orig_nbformat": 4,
  "vscode": {
   "interpreter": {
    "hash": "d49c3f6d6dd49f9272b571d9fad348ab55b8c6c3f691520d74ed0af1f69c3dd8"
   }
  }
 },
 "nbformat": 4,
 "nbformat_minor": 2
}
